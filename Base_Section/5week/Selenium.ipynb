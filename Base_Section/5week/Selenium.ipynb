{
 "cells": [
  {
   "cell_type": "markdown",
   "metadata": {},
   "source": [
    "Selenium\n",
    "=====\n",
    "Selenium 설치\n",
    "-----\n",
    "Selenium 설치는 조금 복잡합니다.<br>\n",
    "우선 cmd창에 `pip install selenium`부터 실행하여 설치합니다.<br>\n",
    "그리고 <https://sites.google.com/a/chromium.org/chromedriver/downloads>에서 자기 크롬 버전에 맞는 실행파일을 다운 받아줍니다.<nr>\n",
    "다음, 다운 받은 위치의 경로를 복사해서 아래에 붙여 넣어주면 됩니다."
   ]
  },
  {
   "cell_type": "code",
   "execution_count": 1,
   "metadata": {},
   "outputs": [],
   "source": [
    "from selenium import webdriver\n",
    "import time\n",
    "\n",
    "# 본인의 경로 설정해서 붙여두기\n",
    "# mac의 경우 확장자 (.exe)없이 불러오기\n",
    "# driver = webdriver.Chrome(executable_path='/경로/chromedriver.exe')\n",
    "driver = webdriver.Chrome(executable_path='/Users/seoseojeongmin/210208공동세션/chromedriver')"
   ]
  },
  {
   "cell_type": "code",
   "execution_count": 2,
   "metadata": {},
   "outputs": [],
   "source": [
    "import requests \n",
    "from bs4 import BeautifulSoup"
   ]
  },
  {
   "cell_type": "markdown",
   "metadata": {},
   "source": [
    "인스타그램 크롤링\n",
    "-----\n",
    "인스타그램 해시태그를 통해 검색한 내용을 크롤링 해봅니다."
   ]
  },
  {
   "cell_type": "code",
   "execution_count": 4,
   "metadata": {},
   "outputs": [],
   "source": [
    "# 인스타그램 url 불러오기\n",
    "driver.get('https://www.instagram.com/')"
   ]
  },
  {
   "cell_type": "code",
   "execution_count": 5,
   "metadata": {},
   "outputs": [],
   "source": [
    "#ID와 비밀번호 입력//*[@id=\"loginForm\"]/div/div[1]/div/label/input\n",
    "driver.find_element_by_xpath('//*[@id=\"loginForm\"]/div/div[1]/div/label/input').send_keys('id')\n",
    "driver.find_element_by_xpath('//*[@id=\"loginForm\"]/div/div[2]/div/label/input').send_keys('passward')"
   ]
  },
  {
   "cell_type": "code",
   "execution_count": 6,
   "metadata": {},
   "outputs": [],
   "source": [
    "# 로그인 클릭\n",
    "driver.find_element_by_xpath('//*[@id=\"loginForm\"]/div/div[3]/button/div').click()"
   ]
  },
  {
   "cell_type": "code",
   "execution_count": 7,
   "metadata": {
    "collapsed": true,
    "jupyter": {
     "outputs_hidden": true
    }
   },
   "outputs": [
    {
     "ename": "NoSuchElementException",
     "evalue": "Message: no such element: Unable to locate element: {\"method\":\"xpath\",\"selector\":\"//*[@id=\"react-root\"]/section/main/div/div/div/div/button\"}\n  (Session info: chrome=88.0.4324.146)\n",
     "output_type": "error",
     "traceback": [
      "\u001b[0;31m---------------------------------------------------------------------------\u001b[0m",
      "\u001b[0;31mNoSuchElementException\u001b[0m                    Traceback (most recent call last)",
      "\u001b[0;32m<ipython-input-7-5c8a5ee6d7f0>\u001b[0m in \u001b[0;36m<module>\u001b[0;34m\u001b[0m\n\u001b[1;32m      1\u001b[0m \u001b[0;31m# 로그인 정보 저장 (나중에 하기)\u001b[0m\u001b[0;34m\u001b[0m\u001b[0;34m\u001b[0m\u001b[0;34m\u001b[0m\u001b[0m\n\u001b[1;32m      2\u001b[0m \u001b[0;31m# 알림설정 (나중에 하기)\u001b[0m\u001b[0;34m\u001b[0m\u001b[0;34m\u001b[0m\u001b[0;34m\u001b[0m\u001b[0m\n\u001b[0;32m----> 3\u001b[0;31m \u001b[0mdriver\u001b[0m\u001b[0;34m.\u001b[0m\u001b[0mfind_element_by_xpath\u001b[0m\u001b[0;34m(\u001b[0m\u001b[0;34m'//*[@id=\"react-root\"]/section/main/div/div/div/div/button'\u001b[0m\u001b[0;34m)\u001b[0m\u001b[0;34m.\u001b[0m\u001b[0mclick\u001b[0m\u001b[0;34m(\u001b[0m\u001b[0;34m)\u001b[0m\u001b[0;34m\u001b[0m\u001b[0;34m\u001b[0m\u001b[0m\n\u001b[0m\u001b[1;32m      4\u001b[0m \u001b[0mtime\u001b[0m\u001b[0;34m.\u001b[0m\u001b[0msleep\u001b[0m\u001b[0;34m(\u001b[0m\u001b[0;36m3\u001b[0m\u001b[0;34m)\u001b[0m\u001b[0;34m\u001b[0m\u001b[0;34m\u001b[0m\u001b[0m\n",
      "\u001b[0;32m~/opt/anaconda3/lib/python3.7/site-packages/selenium/webdriver/remote/webdriver.py\u001b[0m in \u001b[0;36mfind_element_by_xpath\u001b[0;34m(self, xpath)\u001b[0m\n\u001b[1;32m    392\u001b[0m             \u001b[0melement\u001b[0m \u001b[0;34m=\u001b[0m \u001b[0mdriver\u001b[0m\u001b[0;34m.\u001b[0m\u001b[0mfind_element_by_xpath\u001b[0m\u001b[0;34m(\u001b[0m\u001b[0;34m'//div/td[1]'\u001b[0m\u001b[0;34m)\u001b[0m\u001b[0;34m\u001b[0m\u001b[0;34m\u001b[0m\u001b[0m\n\u001b[1;32m    393\u001b[0m         \"\"\"\n\u001b[0;32m--> 394\u001b[0;31m         \u001b[0;32mreturn\u001b[0m \u001b[0mself\u001b[0m\u001b[0;34m.\u001b[0m\u001b[0mfind_element\u001b[0m\u001b[0;34m(\u001b[0m\u001b[0mby\u001b[0m\u001b[0;34m=\u001b[0m\u001b[0mBy\u001b[0m\u001b[0;34m.\u001b[0m\u001b[0mXPATH\u001b[0m\u001b[0;34m,\u001b[0m \u001b[0mvalue\u001b[0m\u001b[0;34m=\u001b[0m\u001b[0mxpath\u001b[0m\u001b[0;34m)\u001b[0m\u001b[0;34m\u001b[0m\u001b[0;34m\u001b[0m\u001b[0m\n\u001b[0m\u001b[1;32m    395\u001b[0m \u001b[0;34m\u001b[0m\u001b[0m\n\u001b[1;32m    396\u001b[0m     \u001b[0;32mdef\u001b[0m \u001b[0mfind_elements_by_xpath\u001b[0m\u001b[0;34m(\u001b[0m\u001b[0mself\u001b[0m\u001b[0;34m,\u001b[0m \u001b[0mxpath\u001b[0m\u001b[0;34m)\u001b[0m\u001b[0;34m:\u001b[0m\u001b[0;34m\u001b[0m\u001b[0;34m\u001b[0m\u001b[0m\n",
      "\u001b[0;32m~/opt/anaconda3/lib/python3.7/site-packages/selenium/webdriver/remote/webdriver.py\u001b[0m in \u001b[0;36mfind_element\u001b[0;34m(self, by, value)\u001b[0m\n\u001b[1;32m    976\u001b[0m         return self.execute(Command.FIND_ELEMENT, {\n\u001b[1;32m    977\u001b[0m             \u001b[0;34m'using'\u001b[0m\u001b[0;34m:\u001b[0m \u001b[0mby\u001b[0m\u001b[0;34m,\u001b[0m\u001b[0;34m\u001b[0m\u001b[0;34m\u001b[0m\u001b[0m\n\u001b[0;32m--> 978\u001b[0;31m             'value': value})['value']\n\u001b[0m\u001b[1;32m    979\u001b[0m \u001b[0;34m\u001b[0m\u001b[0m\n\u001b[1;32m    980\u001b[0m     \u001b[0;32mdef\u001b[0m \u001b[0mfind_elements\u001b[0m\u001b[0;34m(\u001b[0m\u001b[0mself\u001b[0m\u001b[0;34m,\u001b[0m \u001b[0mby\u001b[0m\u001b[0;34m=\u001b[0m\u001b[0mBy\u001b[0m\u001b[0;34m.\u001b[0m\u001b[0mID\u001b[0m\u001b[0;34m,\u001b[0m \u001b[0mvalue\u001b[0m\u001b[0;34m=\u001b[0m\u001b[0;32mNone\u001b[0m\u001b[0;34m)\u001b[0m\u001b[0;34m:\u001b[0m\u001b[0;34m\u001b[0m\u001b[0;34m\u001b[0m\u001b[0m\n",
      "\u001b[0;32m~/opt/anaconda3/lib/python3.7/site-packages/selenium/webdriver/remote/webdriver.py\u001b[0m in \u001b[0;36mexecute\u001b[0;34m(self, driver_command, params)\u001b[0m\n\u001b[1;32m    319\u001b[0m         \u001b[0mresponse\u001b[0m \u001b[0;34m=\u001b[0m \u001b[0mself\u001b[0m\u001b[0;34m.\u001b[0m\u001b[0mcommand_executor\u001b[0m\u001b[0;34m.\u001b[0m\u001b[0mexecute\u001b[0m\u001b[0;34m(\u001b[0m\u001b[0mdriver_command\u001b[0m\u001b[0;34m,\u001b[0m \u001b[0mparams\u001b[0m\u001b[0;34m)\u001b[0m\u001b[0;34m\u001b[0m\u001b[0;34m\u001b[0m\u001b[0m\n\u001b[1;32m    320\u001b[0m         \u001b[0;32mif\u001b[0m \u001b[0mresponse\u001b[0m\u001b[0;34m:\u001b[0m\u001b[0;34m\u001b[0m\u001b[0;34m\u001b[0m\u001b[0m\n\u001b[0;32m--> 321\u001b[0;31m             \u001b[0mself\u001b[0m\u001b[0;34m.\u001b[0m\u001b[0merror_handler\u001b[0m\u001b[0;34m.\u001b[0m\u001b[0mcheck_response\u001b[0m\u001b[0;34m(\u001b[0m\u001b[0mresponse\u001b[0m\u001b[0;34m)\u001b[0m\u001b[0;34m\u001b[0m\u001b[0;34m\u001b[0m\u001b[0m\n\u001b[0m\u001b[1;32m    322\u001b[0m             response['value'] = self._unwrap_value(\n\u001b[1;32m    323\u001b[0m                 response.get('value', None))\n",
      "\u001b[0;32m~/opt/anaconda3/lib/python3.7/site-packages/selenium/webdriver/remote/errorhandler.py\u001b[0m in \u001b[0;36mcheck_response\u001b[0;34m(self, response)\u001b[0m\n\u001b[1;32m    240\u001b[0m                 \u001b[0malert_text\u001b[0m \u001b[0;34m=\u001b[0m \u001b[0mvalue\u001b[0m\u001b[0;34m[\u001b[0m\u001b[0;34m'alert'\u001b[0m\u001b[0;34m]\u001b[0m\u001b[0;34m.\u001b[0m\u001b[0mget\u001b[0m\u001b[0;34m(\u001b[0m\u001b[0;34m'text'\u001b[0m\u001b[0;34m)\u001b[0m\u001b[0;34m\u001b[0m\u001b[0;34m\u001b[0m\u001b[0m\n\u001b[1;32m    241\u001b[0m             \u001b[0;32mraise\u001b[0m \u001b[0mexception_class\u001b[0m\u001b[0;34m(\u001b[0m\u001b[0mmessage\u001b[0m\u001b[0;34m,\u001b[0m \u001b[0mscreen\u001b[0m\u001b[0;34m,\u001b[0m \u001b[0mstacktrace\u001b[0m\u001b[0;34m,\u001b[0m \u001b[0malert_text\u001b[0m\u001b[0;34m)\u001b[0m\u001b[0;34m\u001b[0m\u001b[0;34m\u001b[0m\u001b[0m\n\u001b[0;32m--> 242\u001b[0;31m         \u001b[0;32mraise\u001b[0m \u001b[0mexception_class\u001b[0m\u001b[0;34m(\u001b[0m\u001b[0mmessage\u001b[0m\u001b[0;34m,\u001b[0m \u001b[0mscreen\u001b[0m\u001b[0;34m,\u001b[0m \u001b[0mstacktrace\u001b[0m\u001b[0;34m)\u001b[0m\u001b[0;34m\u001b[0m\u001b[0;34m\u001b[0m\u001b[0m\n\u001b[0m\u001b[1;32m    243\u001b[0m \u001b[0;34m\u001b[0m\u001b[0m\n\u001b[1;32m    244\u001b[0m     \u001b[0;32mdef\u001b[0m \u001b[0m_value_or_default\u001b[0m\u001b[0;34m(\u001b[0m\u001b[0mself\u001b[0m\u001b[0;34m,\u001b[0m \u001b[0mobj\u001b[0m\u001b[0;34m,\u001b[0m \u001b[0mkey\u001b[0m\u001b[0;34m,\u001b[0m \u001b[0mdefault\u001b[0m\u001b[0;34m)\u001b[0m\u001b[0;34m:\u001b[0m\u001b[0;34m\u001b[0m\u001b[0;34m\u001b[0m\u001b[0m\n",
      "\u001b[0;31mNoSuchElementException\u001b[0m: Message: no such element: Unable to locate element: {\"method\":\"xpath\",\"selector\":\"//*[@id=\"react-root\"]/section/main/div/div/div/div/button\"}\n  (Session info: chrome=88.0.4324.146)\n"
     ]
    }
   ],
   "source": [
    "# 로그인 정보 저장 (나중에 하기)\n",
    "driver.find_element_by_xpath('//*[@id=\"react-root\"]/section/main/div/div/div/div/button').click()\n",
    "time.sleep(3)"
   ]
  },
  {
   "cell_type": "code",
   "execution_count": 8,
   "metadata": {},
   "outputs": [],
   "source": [
    "# 알림설정 (나중에 하기)\n",
    "driver.find_element_by_xpath('/html/body/div[4]/div/div/div/div[3]/button[2]').click()"
   ]
  },
  {
   "cell_type": "code",
   "execution_count": 11,
   "metadata": {},
   "outputs": [],
   "source": [
    "# 본인이 원하는 해시태그 검색\n",
    "driver.find_element_by_xpath('//*[@id=\"react-root\"]/section/nav/div[2]/div/div/div[2]/input').send_keys(\"방어맛집\")"
   ]
  },
  {
   "cell_type": "code",
   "execution_count": 13,
   "metadata": {},
   "outputs": [],
   "source": [
    "# 검색된 해시태그 클릭\n",
    "driver.find_element_by_xpath('//*[@id=\"react-root\"]/section/nav/div[2]/div/div/div[2]/div[3]/div/div[2]/div/div[1]/a').click()"
   ]
  },
  {
   "cell_type": "code",
   "execution_count": 14,
   "metadata": {},
   "outputs": [],
   "source": [
    "# 자동 스크롤러 만들기 \n",
    "\n",
    "from selenium.webdriver.common.keys import Keys\n",
    "\n",
    "page_scroll = 0\n",
    "\n",
    "while page_scroll < 20:\n",
    "    driver.find_element_by_tag_name('body').send_keys(Keys.PAGE_DOWN)\n",
    "    time.sleep(2)\n",
    "    page_scroll += 1"
   ]
  },
  {
   "cell_type": "code",
   "execution_count": 15,
   "metadata": {},
   "outputs": [
    {
     "data": {
      "text/plain": [
       "['//*[@id=\"react-root\"]/section/main/article/div[2]/div/div[1]/div[1]/a',\n",
       " '//*[@id=\"react-root\"]/section/main/article/div[2]/div/div[1]/div[2]/a',\n",
       " '//*[@id=\"react-root\"]/section/main/article/div[2]/div/div[1]/div[3]/a',\n",
       " '//*[@id=\"react-root\"]/section/main/article/div[2]/div/div[2]/div[1]/a',\n",
       " '//*[@id=\"react-root\"]/section/main/article/div[2]/div/div[2]/div[2]/a',\n",
       " '//*[@id=\"react-root\"]/section/main/article/div[2]/div/div[2]/div[3]/a',\n",
       " '//*[@id=\"react-root\"]/section/main/article/div[2]/div/div[3]/div[1]/a',\n",
       " '//*[@id=\"react-root\"]/section/main/article/div[2]/div/div[3]/div[2]/a',\n",
       " '//*[@id=\"react-root\"]/section/main/article/div[2]/div/div[3]/div[3]/a',\n",
       " '//*[@id=\"react-root\"]/section/main/article/div[2]/div/div[4]/div[1]/a',\n",
       " '//*[@id=\"react-root\"]/section/main/article/div[2]/div/div[4]/div[2]/a',\n",
       " '//*[@id=\"react-root\"]/section/main/article/div[2]/div/div[4]/div[3]/a',\n",
       " '//*[@id=\"react-root\"]/section/main/article/div[2]/div/div[5]/div[1]/a',\n",
       " '//*[@id=\"react-root\"]/section/main/article/div[2]/div/div[5]/div[2]/a',\n",
       " '//*[@id=\"react-root\"]/section/main/article/div[2]/div/div[5]/div[3]/a',\n",
       " '//*[@id=\"react-root\"]/section/main/article/div[2]/div/div[6]/div[1]/a',\n",
       " '//*[@id=\"react-root\"]/section/main/article/div[2]/div/div[6]/div[2]/a',\n",
       " '//*[@id=\"react-root\"]/section/main/article/div[2]/div/div[6]/div[3]/a',\n",
       " '//*[@id=\"react-root\"]/section/main/article/div[2]/div/div[7]/div[1]/a',\n",
       " '//*[@id=\"react-root\"]/section/main/article/div[2]/div/div[7]/div[2]/a',\n",
       " '//*[@id=\"react-root\"]/section/main/article/div[2]/div/div[7]/div[3]/a',\n",
       " '//*[@id=\"react-root\"]/section/main/article/div[2]/div/div[8]/div[1]/a',\n",
       " '//*[@id=\"react-root\"]/section/main/article/div[2]/div/div[8]/div[2]/a',\n",
       " '//*[@id=\"react-root\"]/section/main/article/div[2]/div/div[8]/div[3]/a',\n",
       " '//*[@id=\"react-root\"]/section/main/article/div[2]/div/div[9]/div[1]/a',\n",
       " '//*[@id=\"react-root\"]/section/main/article/div[2]/div/div[9]/div[2]/a',\n",
       " '//*[@id=\"react-root\"]/section/main/article/div[2]/div/div[9]/div[3]/a',\n",
       " '//*[@id=\"react-root\"]/section/main/article/div[2]/div/div[10]/div[1]/a',\n",
       " '//*[@id=\"react-root\"]/section/main/article/div[2]/div/div[10]/div[2]/a',\n",
       " '//*[@id=\"react-root\"]/section/main/article/div[2]/div/div[10]/div[3]/a']"
      ]
     },
     "execution_count": 15,
     "metadata": {},
     "output_type": "execute_result"
    }
   ],
   "source": [
    "# xpath_list 만들기\n",
    "\n",
    "# //*[@id=\"react-root\"]/section/main/article/div[2]/div/div[1]/div[1]/a\n",
    "# //*[@id=\"react-root\"]/section/main/article/div[2]/div/div[1]/div[2]/a\n",
    "# //*[@id=\"react-root\"]/section/main/article/div[2]/div/div[1]/div[3]/a\n",
    "# //*[@id=\"react-root\"]/section/main/article/div[2]/div/div[2]/div[1]/a\n",
    "\n",
    "xpath_list = []\n",
    "\n",
    "for i in range(1, 11):\n",
    "    for k in range(1, 4):\n",
    "        xpath = '//*[@id=\"react-root\"]/section/main/article/div[2]/div/div['+str(i)+']/div['+str(k)+']/a'\n",
    "        xpath_list.append(xpath)\n",
    "\n",
    "xpath_list"
   ]
  },
  {
   "cell_type": "code",
   "execution_count": 16,
   "metadata": {},
   "outputs": [
    {
     "data": {
      "text/plain": [
       "30"
      ]
     },
     "execution_count": 16,
     "metadata": {},
     "output_type": "execute_result"
    }
   ],
   "source": [
    "# 인스타 게시물 URL 수집 (get_attribute)\n",
    "\n",
    "url_list = []\n",
    "\n",
    "for i in range(len(xpath_list)):\n",
    "    url = driver.find_element_by_xpath(xpath_list[i]).get_attribute('href')\n",
    "    url_list.append(url)\n",
    "    \n",
    "len(url_list)"
   ]
  },
  {
   "cell_type": "code",
   "execution_count": 17,
   "metadata": {},
   "outputs": [],
   "source": [
    "# url_list 불러오기\n",
    "driver.get(url_list[1])"
   ]
  },
  {
   "cell_type": "code",
   "execution_count": 18,
   "metadata": {},
   "outputs": [],
   "source": [
    "# BeautifulSoup으로 파싱\n",
    "\n",
    "html = driver.page_source\n",
    "soup = BeautifulSoup(html, 'lxml')"
   ]
  },
  {
   "cell_type": "code",
   "execution_count": 23,
   "metadata": {},
   "outputs": [
    {
     "data": {
      "text/plain": [
       "'dannatttt'"
      ]
     },
     "execution_count": 23,
     "metadata": {},
     "output_type": "execute_result"
    }
   ],
   "source": [
    "soup.find_all(\"div\", attrs = {\"class\":\"C4VMK\"})[0].find_all(\"a\")[0].text"
   ]
  },
  {
   "cell_type": "code",
   "execution_count": 21,
   "metadata": {},
   "outputs": [
    {
     "data": {
      "text/plain": [
       "'6일'"
      ]
     },
     "execution_count": 21,
     "metadata": {},
     "output_type": "execute_result"
    }
   ],
   "source": [
    "soup.find_all(\"div\", attrs = {\"class\":\"C4VMK\"})[0].find_all('div')[-1].text"
   ]
  },
  {
   "cell_type": "code",
   "execution_count": 22,
   "metadata": {},
   "outputs": [
    {
     "data": {
      "text/plain": [
       "'또 나 빼고 먼저 먹는 주말 저녁🧸같이 먹으려고 한정거장 버스타고 온 미현이#아빠가엄마좋아하는배라고사옴 #엄마가배가왜이래시들시들잘못사왔네라고잔소리 #아빠삐짐 #아빠이제배안사옴 #또티격태격 #그럼이제부터아이스크림사와 #안사와 #사와안사와 #그만좀싸워진짜 #하루라도안싸우면안되는사이#집밥 #집밥스타그램 #방어맛집 #우럭회 #저녁식사메뉴'"
      ]
     },
     "execution_count": 22,
     "metadata": {},
     "output_type": "execute_result"
    }
   ],
   "source": [
    "soup.find_all(\"div\", attrs = {\"class\":\"C4VMK\"})[0].find_all(\"span\")[1].text"
   ]
  },
  {
   "cell_type": "code",
   "execution_count": 24,
   "metadata": {},
   "outputs": [
    {
     "data": {
      "text/plain": [
       "'#엄마가배가왜이래시들시들잘못사왔네라고잔소리'"
      ]
     },
     "execution_count": 24,
     "metadata": {},
     "output_type": "execute_result"
    }
   ],
   "source": [
    "soup.find_all(\"div\", attrs = {\"class\":\"C4VMK\"})[0].find_all(\"span\")[1].find_all(\"a\")[1].text"
   ]
  },
  {
   "cell_type": "code",
   "execution_count": 25,
   "metadata": {},
   "outputs": [
    {
     "name": "stderr",
     "output_type": "stream",
     "text": [
      "100%|██████████| 30/30 [01:56<00:00,  3.88s/it]\n"
     ]
    }
   ],
   "source": [
    "# 일산맛집 태그로 찾아본 결과\n",
    "from tqdm import tqdm\n",
    "import random\n",
    "\n",
    "driver.get('https://www.instagram.com/explore/tags/%EB%B0%A9%EC%96%B4%EB%A7%9B%EC%A7%91/')\n",
    "\n",
    "result_list = []\n",
    "page_scroll = 0\n",
    "\n",
    "# 자동 스크롤러로 xpath를 확인할 수 있게 함\n",
    "while page_scroll < 20:\n",
    "    driver.find_element_by_tag_name('body').send_keys(Keys.PAGE_DOWN)\n",
    "    time.sleep(2)\n",
    "    page_scroll += 1\n",
    "\n",
    "# 크롤링 코드    \n",
    "for k in tqdm(range(0, 30)):\n",
    "    driver.get(url_list[k])\n",
    "    time.sleep(random.uniform(1, 3))\n",
    "\n",
    "    source = driver.page_source\n",
    "    \n",
    "    soup = BeautifulSoup(source, 'html.parser')\n",
    "    \n",
    "    try:\n",
    "        # 작성자ID\n",
    "        username = soup.find_all(\"div\", attrs = {\"class\":\"C4VMK\"})[0].find_all(\"a\")[0].text\n",
    "        \n",
    "        # 작성 시간\n",
    "        report_time = soup.find_all(\"div\", attrs = {\"class\":\"C4VMK\"})[0].find_all(\"div\")[2].text\n",
    "\n",
    "        # 작성 내용 (해시태그 포함된 코드)\n",
    "        main = soup.find_all(\"div\", attrs = {\"class\":\"C4VMK\"})[0].find_all(\"span\")[1].text\n",
    "        \n",
    "        # 해시태그 (시간 상 3개만 실습해봅시다!)\n",
    "        hashtag_1 = soup.find_all(\"div\", attrs = {\"class\":\"C4VMK\"})[0].find_all(\"span\")[1].find_all(\"a\")[0].text\n",
    "        hashtag_2 = soup.find_all(\"div\", attrs = {\"class\":\"C4VMK\"})[0].find_all(\"span\")[1].find_all(\"a\")[1].text\n",
    "        hashtag_3 = soup.find_all(\"div\", attrs = {\"class\":\"C4VMK\"})[0].find_all(\"span\")[1].find_all(\"a\")[2].text\n",
    "\n",
    "        # 이미지 파일 난이도가 조금 있다고 판단하여 개인실습으로 대체하겠습니다! \n",
    "        # https://kimflstudio.tistory.com/entry/%ED%8C%8C%EC%9D%B4%EC%8D%AC-%EC%9D%B8%EC%8A%A4%ED%83%80%EA%B7%B8%EB%9E%A8-%ED%81%AC%EB%A1%A4%EB%A7%81-%EC%9D%B4%EB%AF%B8%EC%A7%80-%EB%8B%A4%EC%9A%B4%EB%A1%9C%EB%93%9C-beautifulsoup-selenium-%EC%82%AC%EC%9A%A9%EB%B2%95\n",
    "\n",
    "    except: # 게시글이 삭제되었을 경우 공란으로 처리\n",
    "        username = ''\n",
    "        report_time = ''\n",
    "        main = ''\n",
    "        hashtag_1 = ''\n",
    "        hashtag_2 = ''\n",
    "        hashtag_3 = ''\n",
    "        continue\n",
    "        \n",
    "    result = username, report_time, main, hashtag_1, hashtag_2, hashtag_3\n",
    "    result_list.append(result)"
   ]
  },
  {
   "cell_type": "code",
   "execution_count": 27,
   "metadata": {},
   "outputs": [
    {
     "data": {
      "text/html": [
       "<div>\n",
       "<style scoped>\n",
       "    .dataframe tbody tr th:only-of-type {\n",
       "        vertical-align: middle;\n",
       "    }\n",
       "\n",
       "    .dataframe tbody tr th {\n",
       "        vertical-align: top;\n",
       "    }\n",
       "\n",
       "    .dataframe thead th {\n",
       "        text-align: right;\n",
       "    }\n",
       "</style>\n",
       "<table border=\"1\" class=\"dataframe\">\n",
       "  <thead>\n",
       "    <tr style=\"text-align: right;\">\n",
       "      <th></th>\n",
       "      <th>ID</th>\n",
       "      <th>작성시간</th>\n",
       "      <th>내용</th>\n",
       "      <th>해시태그1</th>\n",
       "      <th>해시태그2</th>\n",
       "      <th>해시태그3</th>\n",
       "    </tr>\n",
       "  </thead>\n",
       "  <tbody>\n",
       "    <tr>\n",
       "      <th>0</th>\n",
       "      <td>dannatttt</td>\n",
       "      <td>6일</td>\n",
       "      <td>또 나 빼고 먼저 먹는 주말 저녁🧸같이 먹ᄋ...</td>\n",
       "      <td>#아빠가엄마좋아하는배라고사옴</td>\n",
       "      <td>#엄마가배가왜이래시들시들잘못사왔네라고ᄌ...</td>\n",
       "      <td>#아빠삐짐</td>\n",
       "    </tr>\n",
       "    <tr>\n",
       "      <th>1</th>\n",
       "      <td>iam_dolly56</td>\n",
       "      <td>6일</td>\n",
       "      <td>♡조금만 먹을랬는데... 진짜 존맛탱ㅠㅠ사장님이 계속 리필 해주셔서 방어로 배채웠네...</td>\n",
       "      <td>#겨울여행</td>\n",
       "      <td>#제주도</td>\n",
       "      <td>#제주도여행</td>\n",
       "    </tr>\n",
       "    <tr>\n",
       "      <th>2</th>\n",
       "      <td>double_sh_with_jm</td>\n",
       "      <td>6일</td>\n",
       "      <td>추운겨울엔#방어 #원정포장 #일산포장맛집#포장회 #2인분#방어맛집 #와사비밥내년에 ...</td>\n",
       "      <td>#방어</td>\n",
       "      <td>#원정포장</td>\n",
       "      <td>#일산포장맛집</td>\n",
       "    </tr>\n",
       "    <tr>\n",
       "      <th>3</th>\n",
       "      <td>doyul18</td>\n",
       "      <td>1주</td>\n",
       "      <td>-캬 대방어🐟참치처럼 무순이랑 김에 먹으니 맛나네-#주말#주말저녁#대방어회#방어회</td>\n",
       "      <td>#주말</td>\n",
       "      <td>#주말저녁</td>\n",
       "      <td>#대방어회</td>\n",
       "    </tr>\n",
       "    <tr>\n",
       "      <th>4</th>\n",
       "      <td>sammokhang_crh</td>\n",
       "      <td>1주</td>\n",
       "      <td>방광우모듬 패밀리세트(4인)  포장  6만원&gt;5만원 (방어 + 광어+우럭  2키로)...</td>\n",
       "      <td>#인천공항</td>\n",
       "      <td>#인천공항제2여걕터미널</td>\n",
       "      <td>#인천공항맛집</td>\n",
       "    </tr>\n",
       "    <tr>\n",
       "      <th>5</th>\n",
       "      <td>olangjeju</td>\n",
       "      <td>1주</td>\n",
       "      <td>오늘은 13kg방어! KBS 2TV 생생정보에 저희가게가 나왔습니다! 방송출현 이후...</td>\n",
       "      <td>#올랭이와물꾸럭</td>\n",
       "      <td>#올랭이와물꾸럭본점</td>\n",
       "      <td>#대방어특방어</td>\n",
       "    </tr>\n",
       "    <tr>\n",
       "      <th>6</th>\n",
       "      <td>lsjoooooo</td>\n",
       "      <td>1주</td>\n",
       "      <td>대방어 머리구이, 회.#방어머리구이 #방어 #대방어 #방어회 #방어맛집 #food ...</td>\n",
       "      <td>#방어머리구이</td>\n",
       "      <td>#방어</td>\n",
       "      <td>#대방어</td>\n",
       "    </tr>\n",
       "    <tr>\n",
       "      <th>7</th>\n",
       "      <td>tongyeong_kal</td>\n",
       "      <td>1주</td>\n",
       "      <td>_방어 실측✔친구소환이벤트 참여하고득템해보자구요!#방어회 #방어맛집 #친구소환이벤트</td>\n",
       "      <td>#방어회</td>\n",
       "      <td>#방어맛집</td>\n",
       "      <td>#친구소환이벤트</td>\n",
       "    </tr>\n",
       "    <tr>\n",
       "      <th>8</th>\n",
       "      <td>magumogo</td>\n",
       "      <td>1주</td>\n",
       "      <td>자매수산 아주 좋다요 청하를 부르는 맛#자매수산1호점 #강남역횟집 #방어맛집</td>\n",
       "      <td>#자매수산1호점</td>\n",
       "      <td>#강남역횟집</td>\n",
       "      <td>#방어맛집</td>\n",
       "    </tr>\n",
       "    <tr>\n",
       "      <th>9</th>\n",
       "      <td>kim.__.bb</td>\n",
       "      <td>1주</td>\n",
       "      <td>#수눌음 @yoojin.k8 ㅡ모슬포항 대방어 가성...</td>\n",
       "      <td>#수눌음</td>\n",
       "      <td>@yoojin.k8</td>\n",
       "      <td>#수눌음식당</td>\n",
       "    </tr>\n",
       "    <tr>\n",
       "      <th>10</th>\n",
       "      <td>slow_bungx2</td>\n",
       "      <td>1주</td>\n",
       "      <td>#방어회 #방어맛집 #방어회맛집</td>\n",
       "      <td>#방어회</td>\n",
       "      <td>#방어맛집</td>\n",
       "      <td>#방어회맛집</td>\n",
       "    </tr>\n",
       "    <tr>\n",
       "      <th>11</th>\n",
       "      <td>goyang_food</td>\n",
       "      <td>1주</td>\n",
       "      <td>𓃠 백석 벨리시타 회맛집 \"바담바담\"⠀백석에 횟집이 별로 없는데, 야외에서 강아지랑...</td>\n",
       "      <td>#백석맛집</td>\n",
       "      <td>#바담바담</td>\n",
       "      <td>#벨라시타</td>\n",
       "    </tr>\n",
       "    <tr>\n",
       "      <th>12</th>\n",
       "      <td>2winkle.jay</td>\n",
       "      <td>1주</td>\n",
       "      <td>으 알지? #방어 는 또 좀 갓자나나는 #숭어 가 좋더라쫀득쫀득 ㅋㅋ#동탄남광장맛집...</td>\n",
       "      <td>#방어</td>\n",
       "      <td>#숭어</td>\n",
       "      <td>#동탄남광장맛집</td>\n",
       "    </tr>\n",
       "    <tr>\n",
       "      <th>13</th>\n",
       "      <td>blossom.picnic</td>\n",
       "      <td>1주</td>\n",
       "      <td>방어를 맛봐야 진정한 겨울이지!..#대방어 #노량진 #찐맛집 #주문후30분대기 #여...</td>\n",
       "      <td>#대방어</td>\n",
       "      <td>#노량진</td>\n",
       "      <td>#찐맛집</td>\n",
       "    </tr>\n",
       "    <tr>\n",
       "      <th>14</th>\n",
       "      <td>redd_tasty</td>\n",
       "      <td>1주</td>\n",
       "      <td>주 1회 음주생활🍶여자 셋이서 9시까지소주 5병을 달렸지만,,취하지 않은 #방어맛집...</td>\n",
       "      <td>#방어맛집</td>\n",
       "      <td>#방어회</td>\n",
       "      <td>#강남역맛집</td>\n",
       "    </tr>\n",
       "    <tr>\n",
       "      <th>15</th>\n",
       "      <td>mylife_watch_food</td>\n",
       "      <td>1주</td>\n",
       "      <td>#대구맛집#광코맛집#바다와고등어#고등어회맛집#방어맛집#참돔맛집#고급모듬회#회스타그램...</td>\n",
       "      <td>#대구맛집</td>\n",
       "      <td>#광코맛집</td>\n",
       "      <td>#바다와고등어</td>\n",
       "    </tr>\n",
       "    <tr>\n",
       "      <th>16</th>\n",
       "      <td>fav._.fooood</td>\n",
       "      <td>1주</td>\n",
       "      <td>즐거운 주말 보내고 계신가요 &gt;__&lt; 저는 오늘 소래포구가서 회 포장해왔어요!! 가...</td>\n",
       "      <td>#인천</td>\n",
       "      <td>#소래포구</td>\n",
       "      <td>#소래포구맛집</td>\n",
       "    </tr>\n",
       "    <tr>\n",
       "      <th>17</th>\n",
       "      <td>hong_sool</td>\n",
       "      <td>1주</td>\n",
       "      <td>얼마 남지않은 방어의 계절...😞떠나 보내기 전에 찐하게 인사해주러 가자!!#서울 ...</td>\n",
       "      <td>#서울</td>\n",
       "      <td>#방어맛집</td>\n",
       "      <td>#방어맛집</td>\n",
       "    </tr>\n",
       "    <tr>\n",
       "      <th>18</th>\n",
       "      <td>yunjaejeung</td>\n",
       "      <td>1주</td>\n",
       "      <td>@yoojin.k8 언니 마시쩡❣️#수눌음 #방어맛ᄌ...</td>\n",
       "      <td>@yoojin.k8</td>\n",
       "      <td>#수눌음</td>\n",
       "      <td>#방어맛집</td>\n",
       "    </tr>\n",
       "    <tr>\n",
       "      <th>19</th>\n",
       "      <td>b_wolf_garret</td>\n",
       "      <td>1주</td>\n",
       "      <td>.#만덕횟집죽전 쪽에서 유명한싱싱한 활어 횟집사장님이 직접 낚시도하시는 회집입니다요...</td>\n",
       "      <td>#만덕횟집</td>\n",
       "      <td>#대방어</td>\n",
       "      <td>#대방어회</td>\n",
       "    </tr>\n",
       "    <tr>\n",
       "      <th>20</th>\n",
       "      <td>sangyunsusan</td>\n",
       "      <td>1주</td>\n",
       "      <td>저희 상윤수산은 청정제주의 바다의 어선에서 직접 어확한 싱싱한 수산물만 취급합니다!...</td>\n",
       "      <td>#제주</td>\n",
       "      <td>#제주도특산물</td>\n",
       "      <td>#제주특산품</td>\n",
       "    </tr>\n",
       "    <tr>\n",
       "      <th>21</th>\n",
       "      <td>foood._.review</td>\n",
       "      <td>1주</td>\n",
       "      <td>[ 소래포구_#소래포구어시장 ]#__👍👍👍.#대방어소래포구 어시장 어딘가에서 포장해...</td>\n",
       "      <td>#소래포구어시장</td>\n",
       "      <td>#__👍👍👍</td>\n",
       "      <td>#대방어</td>\n",
       "    </tr>\n",
       "  </tbody>\n",
       "</table>\n",
       "</div>"
      ],
      "text/plain": [
       "                   ID 작성시간                                                 내용  \\\n",
       "0           dannatttt   6일  또 나 빼고 먼저 먹는 주말 저녁🧸같이 먹ᄋ...   \n",
       "1         iam_dolly56   6일  ♡조금만 먹을랬는데... 진짜 존맛탱ㅠㅠ사장님이 계속 리필 해주셔서 방어로 배채웠네...   \n",
       "2   double_sh_with_jm   6일  추운겨울엔#방어 #원정포장 #일산포장맛집#포장회 #2인분#방어맛집 #와사비밥내년에 ...   \n",
       "3             doyul18   1주      -캬 대방어🐟참치처럼 무순이랑 김에 먹으니 맛나네-#주말#주말저녁#대방어회#방어회   \n",
       "4      sammokhang_crh   1주  방광우모듬 패밀리세트(4인)  포장  6만원>5만원 (방어 + 광어+우럭  2키로)...   \n",
       "5           olangjeju   1주  오늘은 13kg방어! KBS 2TV 생생정보에 저희가게가 나왔습니다! 방송출현 이후...   \n",
       "6           lsjoooooo   1주  대방어 머리구이, 회.#방어머리구이 #방어 #대방어 #방어회 #방어맛집 #food ...   \n",
       "7       tongyeong_kal   1주     _방어 실측✔친구소환이벤트 참여하고득템해보자구요!#방어회 #방어맛집 #친구소환이벤트   \n",
       "8            magumogo   1주         자매수산 아주 좋다요 청하를 부르는 맛#자매수산1호점 #강남역횟집 #방어맛집   \n",
       "9           kim.__.bb   1주  #수눌음 @yoojin.k8 ㅡ모슬포항 대방어 가성...   \n",
       "10        slow_bungx2   1주                                  #방어회 #방어맛집 #방어회맛집   \n",
       "11        goyang_food   1주  𓃠 백석 벨리시타 회맛집 \"바담바담\"⠀백석에 횟집이 별로 없는데, 야외에서 강아지랑...   \n",
       "12        2winkle.jay   1주  으 알지? #방어 는 또 좀 갓자나나는 #숭어 가 좋더라쫀득쫀득 ㅋㅋ#동탄남광장맛집...   \n",
       "13     blossom.picnic   1주  방어를 맛봐야 진정한 겨울이지!..#대방어 #노량진 #찐맛집 #주문후30분대기 #여...   \n",
       "14         redd_tasty   1주  주 1회 음주생활🍶여자 셋이서 9시까지소주 5병을 달렸지만,,취하지 않은 #방어맛집...   \n",
       "15  mylife_watch_food   1주  #대구맛집#광코맛집#바다와고등어#고등어회맛집#방어맛집#참돔맛집#고급모듬회#회스타그램...   \n",
       "16       fav._.fooood   1주  즐거운 주말 보내고 계신가요 >__< 저는 오늘 소래포구가서 회 포장해왔어요!! 가...   \n",
       "17          hong_sool   1주  얼마 남지않은 방어의 계절...😞떠나 보내기 전에 찐하게 인사해주러 가자!!#서울 ...   \n",
       "18        yunjaejeung   1주  @yoojin.k8 언니 마시쩡❣️#수눌음 #방어맛ᄌ...   \n",
       "19      b_wolf_garret   1주  .#만덕횟집죽전 쪽에서 유명한싱싱한 활어 횟집사장님이 직접 낚시도하시는 회집입니다요...   \n",
       "20       sangyunsusan   1주  저희 상윤수산은 청정제주의 바다의 어선에서 직접 어확한 싱싱한 수산물만 취급합니다!...   \n",
       "21     foood._.review   1주  [ 소래포구_#소래포구어시장 ]#__👍👍👍.#대방어소래포구 어시장 어딘가에서 포장해...   \n",
       "\n",
       "                                해시태그1  \\\n",
       "0   #아빠가엄마좋아하는배라고사옴   \n",
       "1                               #겨울여행   \n",
       "2                                 #방어   \n",
       "3                                 #주말   \n",
       "4                               #인천공항   \n",
       "5                 #올랭이와물꾸럭   \n",
       "6                             #방어머리구이   \n",
       "7                                #방어회   \n",
       "8                            #자매수산1호점   \n",
       "9                           #수눌음   \n",
       "10                               #방어회   \n",
       "11                              #백석맛집   \n",
       "12                                #방어   \n",
       "13                               #대방어   \n",
       "14                              #방어맛집   \n",
       "15                              #대구맛집   \n",
       "16                                #인천   \n",
       "17                                #서울   \n",
       "18                         @yoojin.k8   \n",
       "19                              #만덕횟집   \n",
       "20                                #제주   \n",
       "21                           #소래포구어시장   \n",
       "\n",
       "                                                해시태그2             해시태그3  \n",
       "0   #엄마가배가왜이래시들시들잘못사왔네라고ᄌ...        #아빠삐짐  \n",
       "1                                                #제주도            #제주도여행  \n",
       "2                                               #원정포장           #일산포장맛집  \n",
       "3                                               #주말저녁             #대방어회  \n",
       "4                                        #인천공항제2여걕터미널           #인천공항맛집  \n",
       "5                           #올랭이와물꾸럭본점  #대방어특방어  \n",
       "6                                                 #방어              #대방어  \n",
       "7                                               #방어맛집          #친구소환이벤트  \n",
       "8                                              #강남역횟집             #방어맛집  \n",
       "9                                          @yoojin.k8   #수눌음식당  \n",
       "10                                              #방어맛집            #방어회맛집  \n",
       "11                                              #바담바담             #벨라시타  \n",
       "12                                                #숭어          #동탄남광장맛집  \n",
       "13                                               #노량진              #찐맛집  \n",
       "14                                               #방어회            #강남역맛집  \n",
       "15                                              #광코맛집           #바다와고등어  \n",
       "16                                              #소래포구           #소래포구맛집  \n",
       "17                                              #방어맛집             #방어맛집  \n",
       "18                                          #수눌음      #방어맛집  \n",
       "19                                               #대방어             #대방어회  \n",
       "20                                            #제주도특산물            #제주특산품  \n",
       "21                                             #__👍👍👍              #대방어  "
      ]
     },
     "execution_count": 27,
     "metadata": {},
     "output_type": "execute_result"
    }
   ],
   "source": [
    "# 수집된 데이터 확인\n",
    "import pandas as pd\n",
    "df_insta = pd.DataFrame(result_list, columns = ['ID', '작성시간', '내용', '해시태그1', '해시태그2', '해시태그3'])\n",
    "df_insta"
   ]
  },
  {
   "cell_type": "markdown",
   "metadata": {},
   "source": [
    "꼭 알아두어야 할 내용\n",
    "-----\n",
    "1. 크롤링에는 대표적으로 두 가지 (Selenium과 BeautifulSoup)라는 라이브러리를 사용한다.\n",
    "\n",
    "2. Selenium은 웹을 동작시키는 데, BeautifulSoup은 html 정보를 파싱하는 데 활용한다.\n",
    "\n",
    "3. Selenium은 동적 크롤링을 효과적으로 수행할 수 있지만 라이브러리 자체가 무겁고, 자주 막히기 때문에 Requests와 BeautifulSoup으로 해결이 가능하다면 최대한 해결해보자.\n",
    "\n",
    "3. BeautifulSoup에서는 `soup = BeautifulSoup(html,'lxml')`을 설정한다.\n",
    "\n",
    "4. `soup.find_all(<b>'태그'</b>, attrs = {<b>'속성'</b> : <b>'속성 정보'</b>})`의 구조로 검색한다. (soup.find()의 경우도 동일)\n",
    "\n",
    "5. soup.find_all()의 경우에는 리스트 형태로 결괏값을 반환하기 때문에 인덱싱을 해주어야 다른 함수들을 활용할 수 있다.(.text, .get 등)\n",
    "\n",
    "6. 부모 태그를 가지고 온 경우에 더 파싱이 가능하다. ex) `soup.find(<b>'부모 태그'</b>).find(<b>'자식 태그'</b>)` (실제 본인이 원하는 데이터를 얻고자 할 때 html 구조에서 헤매는 경우를 해결해 줄 수 있다.)\n",
    "\n",
    "6. Selenium으로 페이지의 html 정보를 가지고 오는 경우 `driver.page_source`\n",
    "\n",
    "7. Selenium으로 웹을 동작시킬 때는 `driver.find_element_by_xpath(<b>'복사한 xpath'</b>)`를 활용한다. 대표적으로 .click(), .send_keys() 등이 있다.\n",
    "\n",
    "8. 스크립트를 실행하고 싶을 때는 `driver.execute_script(<b>'원하는 명령어'</b>)`를 활용할 수 있다.\n",
    "\n",
    "9. URL이나 xpath를 활용하는 경우에는 규칙을 찾아서 만들어두는 것이 작업 속도를 훨씬 높여준다.\n",
    "\n",
    "10. 좀 더 수준높은 크롤링을 해보고 싶다면 구글링을 해보자. (BeautifulSoup, Selenium의 딱딱한 형식을 따르지 않고도 빠르고 가볍게 만든 크롤러들을 참고해보자!, 방식도 굉장히 다양하다) "
   ]
  },
  {
   "cell_type": "code",
   "execution_count": null,
   "metadata": {},
   "outputs": [],
   "source": []
  }
 ],
 "metadata": {
  "kernelspec": {
   "display_name": "Python 3",
   "language": "python",
   "name": "python3"
  },
  "language_info": {
   "codemirror_mode": {
    "name": "ipython",
    "version": 3
   },
   "file_extension": ".py",
   "mimetype": "text/x-python",
   "name": "python",
   "nbconvert_exporter": "python",
   "pygments_lexer": "ipython3",
   "version": "3.7.6"
  }
 },
 "nbformat": 4,
 "nbformat_minor": 4
}
