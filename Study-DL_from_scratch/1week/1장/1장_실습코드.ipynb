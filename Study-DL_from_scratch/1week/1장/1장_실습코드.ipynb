{
 "cells": [
  {
   "cell_type": "markdown",
   "metadata": {},
   "source": [
    "# 밑바닥부터 시작하는 딥러닝\n",
    "\n",
    "### BOAZ 16기 분석 멘토링 C조\n",
    "* 멘토: 김나경, 이현준\n",
    "* 멘티: 곽민지, 김영민, 김영은, 남유지, 황이린"
   ]
  },
  {
   "cell_type": "markdown",
   "metadata": {},
   "source": [
    "# 1 헬로 파이썬\n",
    "\n",
    "간단하게 파이썬 소개. python, numpy, matplotlib"
   ]
  },
  {
   "cell_type": "markdown",
   "metadata": {},
   "source": [
    "## 1.1 파이썬이란?\n",
    "\n",
    " 간단하고 배우기 쉬운 프로그래밍 언어. 오픈 소스라 무료 이용 가능. \n",
    "\n",
    " 영어와 유사한 문법. 프로그래밍 입문자 추천 언어\n",
    "\n",
    " 데이터 과학 분야: 수치 계산과 통계 처리를 다루는 라이브러리. Numpy(넘파이), SciPy(사이파이)\n",
    "    \n",
    " 딥러닝 프레임워크 API: TensorFlow(텐서플로), Caffe(카페), Chainer(체이너), Theano(테아노) "
   ]
  },
  {
   "cell_type": "markdown",
   "metadata": {},
   "source": [
    "## 1.2 파이썬 설치하기\n",
    "\n",
    "PC에 설치시 주의할 점\n",
    "\n",
    "### 1.2.1 파이썬 버전\n",
    "\n",
    "이 책은 파이썬 3을 사용 (2.x, 3.x 두 가지 버전 존재)\n",
    "\n",
    "하위 호환성 없음.\n",
    "\n",
    "### 1.2.2 사용하는 외부 라이브러리\n",
    "\n",
    "딥러닝을 밑바닥부터 구현. 외부 라이브러리는 최소한만 사용.\n",
    "\n",
    "자주 사용할 외부 라이브러리: NumPy(넘파이), matplotlib\n",
    "\n",
    "NumPy(넘파이): 수치 계산용 라이브러리\n",
    "\n",
    "matplotlib: 그래프를 그려주는 라이브러리\n",
    "\n",
    "### 1.2.3 아나콘다 배포판\n",
    "\n",
    "배포판: 사용자가 설치를 한번에 수행할 수 있도록 필요한 라이브러리 등을 하나로 정리해 둔 것.\n",
    "\n",
    "아나콘다: 데이터 분석에 중점을 둔 배포판. NumPy(넘파이), matplotlib가 포함됨.\n",
    "\n",
    "https://www.continuum.io/downloads"
   ]
  },
  {
   "cell_type": "markdown",
   "metadata": {},
   "source": [
    "## 1.3 파이썬 인터프리터\n",
    "파이썬 버전 확인"
   ]
  },
  {
   "cell_type": "code",
   "execution_count": 6,
   "metadata": {},
   "outputs": [
    {
     "name": "stdout",
     "output_type": "stream",
     "text": [
      "Python 3.8.3\n"
     ]
    }
   ],
   "source": [
    "!python --version"
   ]
  },
  {
   "cell_type": "markdown",
   "metadata": {},
   "source": [
    "### 1.3.1 산술 연산"
   ]
  },
  {
   "cell_type": "code",
   "execution_count": 3,
   "metadata": {},
   "outputs": [
    {
     "data": {
      "text/plain": [
       "-1"
      ]
     },
     "execution_count": 3,
     "metadata": {},
     "output_type": "execute_result"
    }
   ],
   "source": [
    "1 - 2"
   ]
  },
  {
   "cell_type": "code",
   "execution_count": 4,
   "metadata": {},
   "outputs": [
    {
     "data": {
      "text/plain": [
       "20"
      ]
     },
     "execution_count": 4,
     "metadata": {},
     "output_type": "execute_result"
    }
   ],
   "source": [
    "4 * 5"
   ]
  },
  {
   "cell_type": "code",
   "execution_count": 5,
   "metadata": {},
   "outputs": [
    {
     "data": {
      "text/plain": [
       "1.4"
      ]
     },
     "execution_count": 5,
     "metadata": {},
     "output_type": "execute_result"
    }
   ],
   "source": [
    "7 / 5"
   ]
  },
  {
   "cell_type": "code",
   "execution_count": 6,
   "metadata": {},
   "outputs": [
    {
     "data": {
      "text/plain": [
       "9"
      ]
     },
     "execution_count": 6,
     "metadata": {},
     "output_type": "execute_result"
    }
   ],
   "source": [
    "3 ** 2"
   ]
  },
  {
   "cell_type": "raw",
   "metadata": {},
   "source": [
    "*는 곱셈. /는 나눗셈. **는 거듭제곱을 의미.\n",
    "파이썬 2에서는 정수끼리 계산한 결과는 정수.\n",
    "파이썬 3에서는 정수를 나눈 결과(/)는 소수(부동소수점)가 됨."
   ]
  },
  {
   "cell_type": "code",
   "execution_count": 10,
   "metadata": {},
   "outputs": [
    {
     "data": {
      "text/plain": [
       "1"
      ]
     },
     "execution_count": 10,
     "metadata": {},
     "output_type": "execute_result"
    }
   ],
   "source": [
    "7 // 5\n",
    "#int(7/5)"
   ]
  },
  {
   "cell_type": "markdown",
   "metadata": {
    "collapsed": true
   },
   "source": [
    "### 1.3.2 자료형\n",
    "자료형: 데이터의 성질. 정수, 소수, 문자열 등과 같은 형태가 있음.\n",
    "\n",
    "type() 함수로 특정 데이터의 자료형을 알 수 있음."
   ]
  },
  {
   "cell_type": "code",
   "execution_count": 8,
   "metadata": {},
   "outputs": [
    {
     "data": {
      "text/plain": [
       "int"
      ]
     },
     "execution_count": 8,
     "metadata": {},
     "output_type": "execute_result"
    }
   ],
   "source": [
    "type(10) #정수"
   ]
  },
  {
   "cell_type": "code",
   "execution_count": 9,
   "metadata": {},
   "outputs": [
    {
     "data": {
      "text/plain": [
       "float"
      ]
     },
     "execution_count": 9,
     "metadata": {},
     "output_type": "execute_result"
    }
   ],
   "source": [
    "type(2.718) #실수"
   ]
  },
  {
   "cell_type": "code",
   "execution_count": 11,
   "metadata": {},
   "outputs": [
    {
     "data": {
      "text/plain": [
       "str"
      ]
     },
     "execution_count": 11,
     "metadata": {},
     "output_type": "execute_result"
    }
   ],
   "source": [
    "type(\"Hello\") # 문자열"
   ]
  },
  {
   "cell_type": "markdown",
   "metadata": {},
   "source": [
    "자료형과 클래스(class)를 같은 의미로 사용하는 경우가 있음.\n",
    "\n",
    "<class 'int'> \"10은 int라는 클래스(자료형)다.\""
   ]
  },
  {
   "cell_type": "markdown",
   "metadata": {},
   "source": [
    "### 1.3.3 변수\n",
    "\n",
    "x, y등의 알파벳을 사용하여 변수 정의\n",
    "\n",
    "변수를 통해 계산하거나 다른값을 대입할 수 있음."
   ]
  },
  {
   "cell_type": "code",
   "execution_count": 11,
   "metadata": {},
   "outputs": [
    {
     "name": "stdout",
     "output_type": "stream",
     "text": [
      "10\n"
     ]
    }
   ],
   "source": [
    "x = 10 # 초기화\n",
    "print(x) # x의 값 출력"
   ]
  },
  {
   "cell_type": "code",
   "execution_count": 12,
   "metadata": {},
   "outputs": [
    {
     "name": "stdout",
     "output_type": "stream",
     "text": [
      "100\n"
     ]
    }
   ],
   "source": [
    "x = 100 # 변수에 값 대입\n",
    "print(x)"
   ]
  },
  {
   "cell_type": "code",
   "execution_count": 13,
   "metadata": {},
   "outputs": [
    {
     "data": {
      "text/plain": [
       "314.0"
      ]
     },
     "execution_count": 13,
     "metadata": {},
     "output_type": "execute_result"
    }
   ],
   "source": [
    "y = 3.14\n",
    "x * y"
   ]
  },
  {
   "cell_type": "code",
   "execution_count": 14,
   "metadata": {},
   "outputs": [
    {
     "data": {
      "text/plain": [
       "float"
      ]
     },
     "execution_count": 14,
     "metadata": {},
     "output_type": "execute_result"
    }
   ],
   "source": [
    "type(x * y)"
   ]
  },
  {
   "cell_type": "markdown",
   "metadata": {},
   "source": [
    "파이썬은 동적언어로 분류. 변수의 자료형을 상황에 맞게 자동으로 결정.\n",
    "\n",
    "정수(int) * 소수(float) = 소수(float) -> 자동 형변환"
   ]
  },
  {
   "cell_type": "markdown",
   "metadata": {},
   "source": [
    "### 1.3.4 리스트\n",
    "리스트(list)"
   ]
  },
  {
   "cell_type": "code",
   "execution_count": 15,
   "metadata": {},
   "outputs": [
    {
     "name": "stdout",
     "output_type": "stream",
     "text": [
      "[1, 2, 3, 4, 5]\n"
     ]
    }
   ],
   "source": [
    "a = [1, 2, 3, 4, 5] # 리스트 생성\n",
    "print(a) # 리스트의 내용 출력"
   ]
  },
  {
   "cell_type": "code",
   "execution_count": 16,
   "metadata": {},
   "outputs": [
    {
     "data": {
      "text/plain": [
       "5"
      ]
     },
     "execution_count": 16,
     "metadata": {},
     "output_type": "execute_result"
    }
   ],
   "source": [
    "len(a) # 리스트의 길이 출력"
   ]
  },
  {
   "cell_type": "code",
   "execution_count": 17,
   "metadata": {},
   "outputs": [
    {
     "data": {
      "text/plain": [
       "1"
      ]
     },
     "execution_count": 17,
     "metadata": {},
     "output_type": "execute_result"
    }
   ],
   "source": [
    "a[0] # 첫 원소에 접근"
   ]
  },
  {
   "cell_type": "code",
   "execution_count": 18,
   "metadata": {},
   "outputs": [
    {
     "data": {
      "text/plain": [
       "5"
      ]
     },
     "execution_count": 18,
     "metadata": {},
     "output_type": "execute_result"
    }
   ],
   "source": [
    "a[4] # 다섯 번째 원소에 접근"
   ]
  },
  {
   "cell_type": "code",
   "execution_count": 19,
   "metadata": {},
   "outputs": [
    {
     "name": "stdout",
     "output_type": "stream",
     "text": [
      "[1, 2, 3, 4, 99]\n"
     ]
    }
   ],
   "source": [
    "a[4] = 99 # 값 대입\n",
    "print(a)"
   ]
  },
  {
   "cell_type": "markdown",
   "metadata": {
    "collapsed": true
   },
   "source": [
    "[] 안의 수를 인덱스(색인)라 하며 0부터 시작함.\n",
    "\n",
    "슬라이싱(slicing): 부분 리스트에도 접근할 수 있음."
   ]
  },
  {
   "cell_type": "code",
   "execution_count": 20,
   "metadata": {},
   "outputs": [
    {
     "data": {
      "text/plain": [
       "[1, 2]"
      ]
     },
     "execution_count": 20,
     "metadata": {},
     "output_type": "execute_result"
    }
   ],
   "source": [
    "a[0:2] # 인덱스 0부터 2까지 얻기(2번재는 포함하지 않는다!)"
   ]
  },
  {
   "cell_type": "code",
   "execution_count": 21,
   "metadata": {},
   "outputs": [
    {
     "data": {
      "text/plain": [
       "[2, 3, 4, 99]"
      ]
     },
     "execution_count": 21,
     "metadata": {},
     "output_type": "execute_result"
    }
   ],
   "source": [
    "a[1:] # 인덱스 1부터 끝까지 얻기"
   ]
  },
  {
   "cell_type": "code",
   "execution_count": 22,
   "metadata": {},
   "outputs": [
    {
     "data": {
      "text/plain": [
       "[1, 2, 3]"
      ]
     },
     "execution_count": 22,
     "metadata": {},
     "output_type": "execute_result"
    }
   ],
   "source": [
    "a[:3] # 처음부터 인덱스 3까지 얻기(3번째는 포함하지 않는다!)"
   ]
  },
  {
   "cell_type": "code",
   "execution_count": 23,
   "metadata": {},
   "outputs": [
    {
     "data": {
      "text/plain": [
       "[1, 2, 3, 4]"
      ]
     },
     "execution_count": 23,
     "metadata": {},
     "output_type": "execute_result"
    }
   ],
   "source": [
    "a[:-1] # 처음부터 마지막 원소의 1개 앞까지 얻기"
   ]
  },
  {
   "cell_type": "code",
   "execution_count": 24,
   "metadata": {},
   "outputs": [
    {
     "data": {
      "text/plain": [
       "[1, 2, 3]"
      ]
     },
     "execution_count": 24,
     "metadata": {},
     "output_type": "execute_result"
    }
   ],
   "source": [
    "a[:-2] # 처음부터 마지막 원소의 2개 앞까지 얻기"
   ]
  },
  {
   "cell_type": "markdown",
   "metadata": {},
   "source": [
    "a[0:2] 인덱스 0부터 1(2보다 하나 앞)까지의 원소를 꺼냄.\n",
    "\n",
    "인덱스 번호 -1: 마지막 원소, -2: 끝에서 한 개 앞의 원소."
   ]
  },
  {
   "cell_type": "markdown",
   "metadata": {},
   "source": [
    "### 1.3.5 딕셔너리\n",
    "딕셔너리(dictionary): 키(key)와 값(value)을 한 쌍으로 저장."
   ]
  },
  {
   "cell_type": "code",
   "execution_count": 25,
   "metadata": {},
   "outputs": [
    {
     "data": {
      "text/plain": [
       "180"
      ]
     },
     "execution_count": 25,
     "metadata": {},
     "output_type": "execute_result"
    }
   ],
   "source": [
    "me = {'height':180} # 딕셔너리 생성\n",
    "me['height']        # 원소에 접근"
   ]
  },
  {
   "cell_type": "code",
   "execution_count": 26,
   "metadata": {},
   "outputs": [
    {
     "name": "stdout",
     "output_type": "stream",
     "text": [
      "{'weight': 70, 'height': 180}\n"
     ]
    }
   ],
   "source": [
    "me['weight'] = 70   # 새 원소 추가\n",
    "print(me)"
   ]
  },
  {
   "cell_type": "markdown",
   "metadata": {},
   "source": [
    "### 1.3.6 bool\n",
    "자료형 bool(불 or 불리언): True(참)와 False(거짓) 두 값 중 하나를 취함.\n",
    "\n",
    "bool에 사용할 수 있는 연산자: and, or, not "
   ]
  },
  {
   "cell_type": "code",
   "execution_count": 13,
   "metadata": {},
   "outputs": [
    {
     "data": {
      "text/plain": [
       "bool"
      ]
     },
     "execution_count": 13,
     "metadata": {},
     "output_type": "execute_result"
    }
   ],
   "source": [
    "hungry = True  # 배가 고프다.\n",
    "sleepy = False # 졸리지 않다.\n",
    "type(hungry)"
   ]
  },
  {
   "cell_type": "code",
   "execution_count": 14,
   "metadata": {},
   "outputs": [
    {
     "data": {
      "text/plain": [
       "False"
      ]
     },
     "execution_count": 14,
     "metadata": {},
     "output_type": "execute_result"
    }
   ],
   "source": [
    "not hungry"
   ]
  },
  {
   "cell_type": "code",
   "execution_count": 15,
   "metadata": {},
   "outputs": [
    {
     "data": {
      "text/plain": [
       "False"
      ]
     },
     "execution_count": 15,
     "metadata": {},
     "output_type": "execute_result"
    }
   ],
   "source": [
    "hungry and sleepy # 배가 고프다 그리고 졸리지 않다."
   ]
  },
  {
   "cell_type": "code",
   "execution_count": 16,
   "metadata": {},
   "outputs": [
    {
     "data": {
      "text/plain": [
       "True"
      ]
     },
     "execution_count": 16,
     "metadata": {},
     "output_type": "execute_result"
    }
   ],
   "source": [
    "hungry or sleepy  # 배가 고프다 또는 졸리지 않다."
   ]
  },
  {
   "cell_type": "markdown",
   "metadata": {},
   "source": [
    "### 1.3.7 if 문\n",
    "조건에 따라 달리 처리하려면 if/else 문을 사용."
   ]
  },
  {
   "cell_type": "code",
   "execution_count": 17,
   "metadata": {},
   "outputs": [
    {
     "name": "stdout",
     "output_type": "stream",
     "text": [
      "I'm hungry\n"
     ]
    }
   ],
   "source": [
    "hungry = True\n",
    "if hungry:\n",
    "    print(\"I'm hungry\")"
   ]
  },
  {
   "cell_type": "code",
   "execution_count": 18,
   "metadata": {},
   "outputs": [
    {
     "name": "stdout",
     "output_type": "stream",
     "text": [
      "I'm not hungry\n",
      "I'm sleepy\n"
     ]
    }
   ],
   "source": [
    "hungry = False\n",
    "if hungry:\n",
    "    print(\"I'm hungry\") # 들여쓰기는 공백 문자로\n",
    "else:\n",
    "    print(\"I'm not hungry\")\n",
    "    print(\"I'm sleepy\")"
   ]
  },
  {
   "cell_type": "markdown",
   "metadata": {},
   "source": [
    "파이썬에서는 들여쓰기(공백 문자)가 중요한 의미를 지님\n",
    "\n",
    "들여쓰기는 지난조건(여기서는 if hungry:)이 충족될 때 실행되는 코드를 표현\n",
    "\n",
    "주의: 파이썬에서는 공백문자를 사용하는 쪽을 권장. 한 단계 더 들여 쓸 때마다 공백 4개씩 더 추가하는 것이 일반적."
   ]
  },
  {
   "cell_type": "markdown",
   "metadata": {},
   "source": [
    "### 1.3.8 for 문\n",
    "반복(루프) 처리에 사용."
   ]
  },
  {
   "cell_type": "code",
   "execution_count": 19,
   "metadata": {},
   "outputs": [
    {
     "name": "stdout",
     "output_type": "stream",
     "text": [
      "1\n",
      "2\n",
      "3\n"
     ]
    }
   ],
   "source": [
    "for i in [1,2,3]: # 리스트 등 데이터 집합의 각 원소에 차례로 접근 가능.\n",
    "    print(i)"
   ]
  },
  {
   "cell_type": "markdown",
   "metadata": {},
   "source": [
    "### 1.3.9 함수\n",
    "특정 기능을 수행하는 일련의 명령들을 묶어 하나의 함수로 정의 가능."
   ]
  },
  {
   "cell_type": "code",
   "execution_count": 20,
   "metadata": {},
   "outputs": [
    {
     "name": "stdout",
     "output_type": "stream",
     "text": [
      "Hello World!\n"
     ]
    }
   ],
   "source": [
    "def hello():\n",
    "    print(\"Hello World!\")\n",
    "hello()"
   ]
  },
  {
   "cell_type": "markdown",
   "metadata": {},
   "source": [
    "함수는 인수를 취할 수 있음. **+ 연산자**를 사용하여 문자열을 이어 붙일 수 있음."
   ]
  },
  {
   "cell_type": "code",
   "execution_count": 21,
   "metadata": {},
   "outputs": [
    {
     "name": "stdout",
     "output_type": "stream",
     "text": [
      "Hello cat!\n"
     ]
    }
   ],
   "source": [
    "def hello(object):\n",
    "    print(\"Hello \" + object + \"!\")\n",
    "hello(\"cat\")"
   ]
  },
  {
   "cell_type": "markdown",
   "metadata": {},
   "source": [
    "## 1.4 파이썬 스크립트 파일\n",
    "파이썬 프로그램을 파일로 저장. 그 파일을 함께 실행하는 방법이 있음."
   ]
  },
  {
   "cell_type": "markdown",
   "metadata": {},
   "source": [
    "### 1.4.1 파일로 저장하기\n",
    "텍스트 편집기를 열고 hungry.py 작성.\n",
    "<pre>\n",
    "print(\"I'm hungry!\")\n",
    "</pre>\n",
    "python hungry.py를 통해 프로그램 실행 가능.\n",
    "<pre>\n",
    "$ cd ~/deep-learning-from-scratch/ch01 # 디렉터리 이동\n",
    "$ python hungry.py\n",
    "I'm hungry!\n",
    "</pre>"
   ]
  },
  {
   "cell_type": "markdown",
   "metadata": {
    "collapsed": true
   },
   "source": [
    "### 1.4.2 클래스\n",
    "개발자가 직접 클래스를 정의하면 독자적인 자료형을 만들 수 있음.\n",
    "\n",
    "클래스만의 전용 함수(메서드)와 속성을 정의\n",
    "\n",
    "<pre>\n",
    "class 클래스이름:\n",
    "    def __init__(self, 인수, ...): # 생성자\n",
    "        ...\n",
    "    def 메서드이름1(self, 인수, ...): # 메서드 1\n",
    "        ...\n",
    "    def 메서드이름2(self, 인수, ...): # 메서드 2\n",
    "        ...\n",
    "</pre>\n",
    "\n",
    "\\__init__ : 생성자(constructor). 클래스를 초기화하는 방법을 정의. 인스턴스가 만들어질 때 한 번만 불림.\n",
    "\n",
    "self : 자신(자신의 인스턴스)을 나타냄. 파이썬에서는 메서드의 첫 번째 인수로 self를 명시적으로 사용함."
   ]
  },
  {
   "cell_type": "code",
   "execution_count": 36,
   "metadata": {},
   "outputs": [
    {
     "name": "stdout",
     "output_type": "stream",
     "text": [
      "Initialized!\n",
      "Hello David!\n",
      "Good-bye David!\n"
     ]
    }
   ],
   "source": [
    "class Man:\n",
    "    def __init__(self, name):\n",
    "        self.name = name\n",
    "        print(\"Initialized!\")\n",
    "        \n",
    "    def hello(self):\n",
    "        print(\"Hello \" + self.name + \"!\")\n",
    "    \n",
    "    def goodbye(self):\n",
    "        print(\"Good-bye \" + self.name + \"!\")\n",
    "        \n",
    "m = Man(\"David\")\n",
    "m.hello()\n",
    "m.goodbye()"
   ]
  },
  {
   "cell_type": "markdown",
   "metadata": {},
   "source": [
    "Man 클래스 정의. m이라는 Man 클래스의 인스턴스(객체)를 생성.\n",
    "\n",
    "인스턴스 변수: 인스턴스별로 저장되는 변수. self 다음에 속성 이름을 써서 인스턴스 변수를 작성하거나 접근할 수 있음."
   ]
  },
  {
   "cell_type": "markdown",
   "metadata": {},
   "source": [
    "## 1.5 넘파이\n",
    "numpy.array: 배열 클래스. 딥러닝 구현시 배열, 행렬 계산에 많이 사용.\n",
    "\n",
    "추가 도움 교재 1(Chapter 7~13) : http://nbviewer.jupyter.org/github/jmportilla/Udemy-notes/tree/master/ \n",
    "\n",
    "추가 도움 교재 2 : http://cs231n.github.io/python-numpy-tutorial"
   ]
  },
  {
   "cell_type": "markdown",
   "metadata": {},
   "source": [
    "### 1.5.1 넘파이 가져오기\n",
    "외부 라이브러리. 포준 파이썬에는 포함되지 않는다는 뜻.\n",
    "\n",
    "라이브러리를 읽기 위해 import 문을 사용. 직역하면 \"numpy를 np라는 이름으로 가져와라\""
   ]
  },
  {
   "cell_type": "code",
   "execution_count": 24,
   "metadata": {},
   "outputs": [],
   "source": [
    "import numpy as np"
   ]
  },
  {
   "cell_type": "markdown",
   "metadata": {},
   "source": [
    "### 1.5.2 넘파이 배열 생성하기\n",
    "배열을 만들 때 np.array() 메서드를 이용.\n",
    "\n",
    "파이썬의 리스트를 인수로 받아 라이브러리가 제공하는 특수한 형태의 배열(numpy.ndarray)을 반환."
   ]
  },
  {
   "cell_type": "code",
   "execution_count": 25,
   "metadata": {},
   "outputs": [
    {
     "name": "stdout",
     "output_type": "stream",
     "text": [
      "[1. 2. 3.]\n"
     ]
    }
   ],
   "source": [
    "x = np.array([1.0, 2.0, 3.0])\n",
    "print(x)"
   ]
  },
  {
   "cell_type": "code",
   "execution_count": 26,
   "metadata": {},
   "outputs": [
    {
     "data": {
      "text/plain": [
       "numpy.ndarray"
      ]
     },
     "execution_count": 26,
     "metadata": {},
     "output_type": "execute_result"
    }
   ],
   "source": [
    "type(x)"
   ]
  },
  {
   "cell_type": "markdown",
   "metadata": {},
   "source": [
    "### 1.5.3 넘파이의 산술 연산"
   ]
  },
  {
   "cell_type": "code",
   "execution_count": 27,
   "metadata": {},
   "outputs": [
    {
     "data": {
      "text/plain": [
       "array([3., 6., 9.])"
      ]
     },
     "execution_count": 27,
     "metadata": {},
     "output_type": "execute_result"
    }
   ],
   "source": [
    "x = np.array([1.0, 2.0, 3.0])\n",
    "y = np.array([2.0, 4.0, 6.0])\n",
    "x + y # 원소별 덧셈"
   ]
  },
  {
   "cell_type": "code",
   "execution_count": 28,
   "metadata": {},
   "outputs": [
    {
     "data": {
      "text/plain": [
       "array([-1., -2., -3.])"
      ]
     },
     "execution_count": 28,
     "metadata": {},
     "output_type": "execute_result"
    }
   ],
   "source": [
    "x - y"
   ]
  },
  {
   "cell_type": "code",
   "execution_count": 29,
   "metadata": {},
   "outputs": [
    {
     "data": {
      "text/plain": [
       "array([ 2.,  8., 18.])"
      ]
     },
     "execution_count": 29,
     "metadata": {},
     "output_type": "execute_result"
    }
   ],
   "source": [
    "x * y # 원소별 곱셈"
   ]
  },
  {
   "cell_type": "code",
   "execution_count": 30,
   "metadata": {},
   "outputs": [
    {
     "data": {
      "text/plain": [
       "array([0.5, 0.5, 0.5])"
      ]
     },
     "execution_count": 30,
     "metadata": {},
     "output_type": "execute_result"
    }
   ],
   "source": [
    "x / y"
   ]
  },
  {
   "cell_type": "markdown",
   "metadata": {},
   "source": [
    "원소 수가 같다면 산술 연산은 각 원소에 대해 행해짐.\n",
    "\n",
    "원소 수가 다르면 오류가 발생!\n",
    "\n",
    "넘파이 배열은 넘파이 배열 * 수치 하나(스칼라값)의 조합으로 된 산술 연산도 수행 가능.\n",
    "\n",
    "브로드캐스트: 이 경우, 스칼라 값과의 계산이 넘파이 배열의 원소별로 한 번씩 수행."
   ]
  },
  {
   "cell_type": "code",
   "execution_count": 31,
   "metadata": {},
   "outputs": [
    {
     "data": {
      "text/plain": [
       "array([0.5, 1. , 1.5])"
      ]
     },
     "execution_count": 31,
     "metadata": {},
     "output_type": "execute_result"
    }
   ],
   "source": [
    "x = np.array([1.0, 2.0, 3.0])\n",
    "x / 2.0"
   ]
  },
  {
   "cell_type": "markdown",
   "metadata": {},
   "source": [
    "### 1.5.4 넘파이의 N차원 배열\n",
    "다차원 배열도 작성할 수 있음.\n",
    "\n",
    "ex. 2차원 배열"
   ]
  },
  {
   "cell_type": "code",
   "execution_count": 32,
   "metadata": {},
   "outputs": [
    {
     "name": "stdout",
     "output_type": "stream",
     "text": [
      "[[1 2]\n",
      " [3 4]]\n"
     ]
    }
   ],
   "source": [
    "A = np.array([[1, 2], [3, 4]])\n",
    "print(A)"
   ]
  },
  {
   "cell_type": "code",
   "execution_count": 48,
   "metadata": {},
   "outputs": [
    {
     "data": {
      "text/plain": [
       "(2, 2)"
      ]
     },
     "execution_count": 48,
     "metadata": {},
     "output_type": "execute_result"
    }
   ],
   "source": [
    "A.shape"
   ]
  },
  {
   "cell_type": "code",
   "execution_count": 34,
   "metadata": {},
   "outputs": [
    {
     "data": {
      "text/plain": [
       "dtype('int32')"
      ]
     },
     "execution_count": 34,
     "metadata": {},
     "output_type": "execute_result"
    }
   ],
   "source": [
    "A.dtype"
   ]
  },
  {
   "cell_type": "markdown",
   "metadata": {},
   "source": [
    "A는 2 X 2 행렬. 배열의 형상은 shape로, 원소의 자료형은 dtype로 알 수 있음.\n",
    "\n",
    "행렬의 산술연산"
   ]
  },
  {
   "cell_type": "code",
   "execution_count": 35,
   "metadata": {},
   "outputs": [
    {
     "data": {
      "text/plain": [
       "array([[ 4,  2],\n",
       "       [ 3, 10]])"
      ]
     },
     "execution_count": 35,
     "metadata": {},
     "output_type": "execute_result"
    }
   ],
   "source": [
    "B = np.array([[3, 0], [0, 6]])\n",
    "A + B"
   ]
  },
  {
   "cell_type": "code",
   "execution_count": 36,
   "metadata": {},
   "outputs": [
    {
     "data": {
      "text/plain": [
       "array([[ 3,  0],\n",
       "       [ 0, 24]])"
      ]
     },
     "execution_count": 36,
     "metadata": {},
     "output_type": "execute_result"
    }
   ],
   "source": [
    "A * B"
   ]
  },
  {
   "cell_type": "markdown",
   "metadata": {},
   "source": [
    "브로드캐스트: 행렬과 스칼라 값의 산술연산도 가능."
   ]
  },
  {
   "cell_type": "code",
   "execution_count": 37,
   "metadata": {},
   "outputs": [
    {
     "name": "stdout",
     "output_type": "stream",
     "text": [
      "[[1 2]\n",
      " [3 4]]\n"
     ]
    }
   ],
   "source": [
    "print(A)"
   ]
  },
  {
   "cell_type": "code",
   "execution_count": 38,
   "metadata": {},
   "outputs": [
    {
     "data": {
      "text/plain": [
       "array([[10, 20],\n",
       "       [30, 40]])"
      ]
     },
     "execution_count": 38,
     "metadata": {},
     "output_type": "execute_result"
    }
   ],
   "source": [
    "A * 10"
   ]
  },
  {
   "cell_type": "markdown",
   "metadata": {},
   "source": [
    "형상이 같은 행렬끼리면 산술 연산도 대응하는 원소별로 계산.\n",
    "\n",
    "수학에서 1차원 배열은 벡터(vector), 2차원 배열은 행렬(matrix), 백터와 행렬을 일반화한 것을 텐서(tensor)라 부름."
   ]
  },
  {
   "cell_type": "markdown",
   "metadata": {},
   "source": [
    "### 1.5.5 브로드캐스트\n",
    "브로드캐스트: 스칼라 값이 2 X 2 행렬로 확대된 후 연산이 이루어짐."
   ]
  },
  {
   "cell_type": "code",
   "execution_count": 39,
   "metadata": {},
   "outputs": [
    {
     "data": {
      "text/html": [
       "\n",
       "    <div style=\"float: left; \">\n",
       "        <table><tr><td>1</td><td>2</td></tr><td>3</td><td>4</td></tr></table>\n",
       "    </div>\n",
       "    <div style=\"float: left;\"> * </div>\n",
       "    <div style=\"float: left;\"> <table><tr><td>10</td></tr></table> </div>\n",
       "    <div style=\"float: left;\"> = </div>\n",
       "    <div style=\"float: left;\">\n",
       "        <table><tr><td>1</td><td>2</td></tr><td>3</td><td>4</td></tr></table>\n",
       "    </div>\n",
       "    <div style=\"float: left;\"> * </div>\n",
       "    <div style=\"float: left;\">\n",
       "        <table><tr><td>10</td><td><font color=\"gray\">10</font></td></tr><td><font color=\"gray\">10</font></td><td><font color=\"gray\">10</font></td></tr></table>\n",
       "    </div>\n",
       "    <div style=\"float: left;\"> = </div>\n",
       "    <div>\n",
       "            <table><tr><td>10</td><td>20</td></tr><td>30</td><td>40</td></tr></table>    </div>\n",
       "    "
      ],
      "text/plain": [
       "<IPython.core.display.HTML object>"
      ]
     },
     "metadata": {},
     "output_type": "display_data"
    }
   ],
   "source": [
    "from IPython.display import display, HTML\n",
    "broadcast = HTML(\"\"\"\n",
    "    <div style=\"float: left; \">\n",
    "        <table><tr><td>1</td><td>2</td></tr><td>3</td><td>4</td></tr></table>\n",
    "    </div>\n",
    "    <div style=\"float: left;\"> * </div>\n",
    "    <div style=\"float: left;\"> <table><tr><td>10</td></tr></table> </div>\n",
    "    <div style=\"float: left;\"> = </div>\n",
    "    <div style=\"float: left;\">\n",
    "        <table><tr><td>1</td><td>2</td></tr><td>3</td><td>4</td></tr></table>\n",
    "    </div>\n",
    "    <div style=\"float: left;\"> * </div>\n",
    "    <div style=\"float: left;\">\n",
    "        <table><tr><td>10</td><td><font color=\"gray\">10</font></td></tr><td><font color=\"gray\">10</font></td><td><font color=\"gray\">10</font></td></tr></table>\n",
    "    </div>\n",
    "    <div style=\"float: left;\"> = </div>\n",
    "    <div>\n",
    "            <table><tr><td>10</td><td>20</td></tr><td>30</td><td>40</td></tr></table>\\\n",
    "    </div>\n",
    "    \"\"\"\n",
    ")\n",
    "# 브로드캐스트 예시\n",
    "display(broadcast)"
   ]
  },
  {
   "cell_type": "code",
   "execution_count": 53,
   "metadata": {},
   "outputs": [
    {
     "data": {
      "text/plain": [
       "array([[10, 40],\n",
       "       [30, 80]])"
      ]
     },
     "execution_count": 53,
     "metadata": {},
     "output_type": "execute_result"
    }
   ],
   "source": [
    "A = np.array([[1, 2], [3, 4]])\n",
    "B = np.array([10, 20])\n",
    "A * B"
   ]
  },
  {
   "cell_type": "code",
   "execution_count": 54,
   "metadata": {},
   "outputs": [
    {
     "data": {
      "text/html": [
       "\n",
       "    <div style=\"float: left; \">\n",
       "        <table><tr><td>1</td><td>2</td></tr><td>3</td><td>4</td></tr></table>\n",
       "    </div>\n",
       "    <div style=\"float: left;\"> * </div>\n",
       "    <div style=\"float: left;\"> <table><tr><td>10</td><td>20</td></tr></table> </div>\n",
       "    <div style=\"float: left;\"> = </div>\n",
       "    <div style=\"float: left;\">\n",
       "        <table><tr><td>1</td><td>2</td></tr><td>3</td><td>4</td></tr></table>\n",
       "    </div>\n",
       "    <div style=\"float: left;\"> * </div>\n",
       "    <div style=\"float: left;\">\n",
       "        <table><tr><td>10</td><td>20</font></td></tr><td><font color=\"gray\">10</font></td><td><font color=\"gray\">20</font></td></tr></table>\n",
       "    </div>\n",
       "    <div style=\"float: left;\"> = </div>\n",
       "    <div>\n",
       "            <table><tr><td>10</td><td>40</td></tr><td>30</td><td>80</td></tr></table>    </div>\n",
       "    "
      ],
      "text/plain": [
       "<IPython.core.display.HTML object>"
      ]
     },
     "metadata": {},
     "output_type": "display_data"
    }
   ],
   "source": [
    "broadcast = HTML(\"\"\"\n",
    "    <div style=\"float: left; \">\n",
    "        <table><tr><td>1</td><td>2</td></tr><td>3</td><td>4</td></tr></table>\n",
    "    </div>\n",
    "    <div style=\"float: left;\"> * </div>\n",
    "    <div style=\"float: left;\"> <table><tr><td>10</td><td>20</td></tr></table> </div>\n",
    "    <div style=\"float: left;\"> = </div>\n",
    "    <div style=\"float: left;\">\n",
    "        <table><tr><td>1</td><td>2</td></tr><td>3</td><td>4</td></tr></table>\n",
    "    </div>\n",
    "    <div style=\"float: left;\"> * </div>\n",
    "    <div style=\"float: left;\">\n",
    "        <table><tr><td>10</td><td>20</font></td></tr><td><font color=\"gray\">10</font></td><td><font color=\"gray\">20</font></td></tr></table>\n",
    "    </div>\n",
    "    <div style=\"float: left;\"> = </div>\n",
    "    <div>\n",
    "            <table><tr><td>10</td><td>40</td></tr><td>30</td><td>80</td></tr></table>\\\n",
    "    </div>\n",
    "    \"\"\"\n",
    ")\n",
    "# 브로드캐스트 예시2\n",
    "display(broadcast)"
   ]
  },
  {
   "cell_type": "markdown",
   "metadata": {
    "collapsed": true
   },
   "source": [
    "### 1.5.6 원소 접근\n",
    "원소의 인덱스는 0부터 시작."
   ]
  },
  {
   "cell_type": "code",
   "execution_count": 51,
   "metadata": {},
   "outputs": [
    {
     "name": "stdout",
     "output_type": "stream",
     "text": [
      "[[51 55]\n",
      " [14 19]\n",
      " [ 0  4]]\n"
     ]
    }
   ],
   "source": [
    "X = np.array([[51, 55], [14, 19], [0, 4]])\n",
    "print(X)"
   ]
  },
  {
   "cell_type": "code",
   "execution_count": 52,
   "metadata": {},
   "outputs": [
    {
     "data": {
      "text/plain": [
       "array([51, 55])"
      ]
     },
     "execution_count": 52,
     "metadata": {},
     "output_type": "execute_result"
    }
   ],
   "source": [
    "X[0] #0행"
   ]
  },
  {
   "cell_type": "code",
   "execution_count": 53,
   "metadata": {},
   "outputs": [
    {
     "data": {
      "text/plain": [
       "55"
      ]
     },
     "execution_count": 53,
     "metadata": {},
     "output_type": "execute_result"
    }
   ],
   "source": [
    "X[0][1] #(0, 1) 위치의 원소"
   ]
  },
  {
   "cell_type": "markdown",
   "metadata": {},
   "source": [
    "for문으로 각 원소 접근"
   ]
  },
  {
   "cell_type": "code",
   "execution_count": 54,
   "metadata": {},
   "outputs": [
    {
     "name": "stdout",
     "output_type": "stream",
     "text": [
      "[51 55]\n",
      "[14 19]\n",
      "[0 4]\n"
     ]
    }
   ],
   "source": [
    "for row in X:\n",
    "    print(row)"
   ]
  },
  {
   "cell_type": "markdown",
   "metadata": {},
   "source": [
    "인덱스를 배열로 지정해 한 번에 여러 원소에 접근 가능"
   ]
  },
  {
   "cell_type": "code",
   "execution_count": 55,
   "metadata": {},
   "outputs": [
    {
     "name": "stdout",
     "output_type": "stream",
     "text": [
      "[51 55 14 19  0  4]\n"
     ]
    }
   ],
   "source": [
    "X = X.flatten() # X를 1차원 배열로 변환(평탄화)\n",
    "print(X)"
   ]
  },
  {
   "cell_type": "code",
   "execution_count": 56,
   "metadata": {},
   "outputs": [
    {
     "data": {
      "text/plain": [
       "array([51, 14,  0])"
      ]
     },
     "execution_count": 56,
     "metadata": {},
     "output_type": "execute_result"
    }
   ],
   "source": [
    "X[np.array([0,2,4])] # 인덱스가 0, 2, 4인 원소 얻기"
   ]
  },
  {
   "cell_type": "markdown",
   "metadata": {},
   "source": [
    "응용하여 특정 조건을 만족하는 원소만 얻을 수 있음"
   ]
  },
  {
   "cell_type": "code",
   "execution_count": 57,
   "metadata": {},
   "outputs": [
    {
     "data": {
      "text/plain": [
       "array([ True,  True, False,  True, False, False])"
      ]
     },
     "execution_count": 57,
     "metadata": {},
     "output_type": "execute_result"
    }
   ],
   "source": [
    "X > 15"
   ]
  },
  {
   "cell_type": "code",
   "execution_count": 58,
   "metadata": {},
   "outputs": [
    {
     "data": {
      "text/plain": [
       "array([51, 55, 19])"
      ]
     },
     "execution_count": 58,
     "metadata": {},
     "output_type": "execute_result"
    }
   ],
   "source": [
    "X[X>15]"
   ]
  },
  {
   "cell_type": "markdown",
   "metadata": {},
   "source": [
    "X > 15 의 결과는 bool 배열\n",
    "\n",
    "bool 배열을 사용해 배열 X에서 True에 해당하는 원소, 15보다 큰 원소만 꺼냄"
   ]
  },
  {
   "cell_type": "markdown",
   "metadata": {},
   "source": [
    "파이썬에서는 빠른 성능이 요구될 경우 해당 부분을 C/C++로 구현하기도 함\n",
    "\n",
    "파이썬은 C/C++ 프로그램을 호출하는 중개자같은 역할을 함\n",
    "\n",
    "넘파이도 주된 처리는 C와 C++로 구현"
   ]
  },
  {
   "cell_type": "markdown",
   "metadata": {},
   "source": [
    "## 1.6 matplotplib\n",
    "matplotlib은 그래프 그리기를 위한 라이브러리. 그래프 그리기와 데이터 시각화를 쉽게"
   ]
  },
  {
   "cell_type": "markdown",
   "metadata": {},
   "source": [
    "### 1.6.1 단순한 그래프 그리기\n",
    "matplotlib의 pyplot 모듈을 이용.\n",
    "\n",
    "sin함수 그리는 예"
   ]
  },
  {
   "cell_type": "code",
   "execution_count": 60,
   "metadata": {},
   "outputs": [
    {
     "data": {
      "image/png": "[encoded data removed]",
      "text/plain": [
       "<Figure size 432x288 with 1 Axes>"
      ]
     },
     "metadata": {
      "needs_background": "light"
     },
     "output_type": "display_data"
    }
   ],
   "source": [
    "# jupyter notebook을 실행한 브라우저 내부에서 그래프 그림.\n",
    "%matplotlib inline \n",
    "\n",
    "import numpy as np\n",
    "import matplotlib.pyplot as plt\n",
    "\n",
    "# 데이터 준비\n",
    "x = np.arange(0, 6, 0.1) # 0에서 6까지 0.1 간격으로 생성\n",
    "y = np.sin(x)\n",
    "\n",
    "# 그래프 그리기\n",
    "plt.plot(x, y)\n",
    "plt.show()"
   ]
  },
  {
   "cell_type": "markdown",
   "metadata": {},
   "source": [
    "넘파이의 arange 메서드로 [0, 0.1, 0.2, ..., 5.8, 5.9] 데이터를 생성하여 x에 할당\n",
    "\n",
    "x의 각 원소에 np.sin 함수를 적용하여 변수 y에 할당\n",
    "\n",
    "x와 y를 인수로 plt.plot을 호출해 그래프를 그림\n",
    "\n",
    "plt.show로 그래프를 화면에 출력"
   ]
  },
  {
   "cell_type": "markdown",
   "metadata": {},
   "source": [
    "### 1.6.2 pyplot의 기능\n",
    "cos 함수도 추가. pyplot의 다른 기능도 사용."
   ]
  },
  {
   "cell_type": "code",
   "execution_count": 61,
   "metadata": {},
   "outputs": [
    {
     "data": {
      "image/png": "[encoded data removed]",
      "text/plain": [
       "<Figure size 432x288 with 1 Axes>"
      ]
     },
     "metadata": {
      "needs_background": "light"
     },
     "output_type": "display_data"
    }
   ],
   "source": [
    "import numpy as np\n",
    "import matplotlib.pyplot as plt\n",
    "\n",
    "# 데이터 준비\n",
    "x = np.arange(0, 6, 0.1) # 0에서 6까지 0.1 간격으로 생성\n",
    "y1 = np.sin(x)\n",
    "y2 = np.cos(x)\n",
    "\n",
    "# 그래프 그리기\n",
    "plt.plot(x, y1, label=\"sin\")\n",
    "plt.plot(x, y2, linestyle=\"--\", label=\"cos\") # cos 함수는 점선으로 그리기\n",
    "plt.xlabel(\"X\") # x축 이름\n",
    "plt.ylabel(\"y\") # y축 이름\n",
    "plt.title(\"sin & cos\") # 제목\n",
    "plt.legend()\n",
    "plt.show()"
   ]
  },
  {
   "cell_type": "markdown",
   "metadata": {
    "collapsed": true
   },
   "source": [
    "### 1.6.3 이미지 표시하기\n",
    "imshow(): pyplot의 이미지를 표시해주는 메서드"
   ]
  },
  {
   "cell_type": "code",
   "execution_count": 1,
   "metadata": {},
   "outputs": [
    {
     "data": {
      "image/png": "[encoded data removed]",
      "text/plain": [
       "<Figure size 432x288 with 1 Axes>"
      ]
     },
     "metadata": {
      "needs_background": "light"
     },
     "output_type": "display_data"
    }
   ],
   "source": [
    "import matplotlib.pyplot as plt\n",
    "from matplotlib.image import imread\n",
    "\n",
    "img = imread('BOAZ.png') # 이미지 읽어오기(적절한 경로를 설정하세요!)\n",
    "\n",
    "plt.imshow(img)\n",
    "plt.show()"
   ]
  },
  {
   "cell_type": "markdown",
   "metadata": {},
   "source": [
    "## 1.7 정리\n",
    "\n",
    "### 이번 장에서 배운 내용\n",
    "\n",
    "파이썬은 오픈소스. 간단하고 익히기 쉬운 프로그래밍 언어\n",
    "\n",
    "이 책은 파이썬 3 버전 사용.\n",
    "\n",
    "외부 라이브러리: numpy(넘파이), matploylib\n",
    "\n",
    "실행하는 방식: '인터프리터'와 '스크립트 파일'\n",
    "\n",
    "함수와 클래스 같은 모듈로 구현을 정리가능.\n",
    "\n",
    "numpy(넘파이)는 다차원 배열을 다루는 편리한 메서드를 많이 제공."
   ]
  },
  {
   "cell_type": "code",
   "execution_count": null,
   "metadata": {},
   "outputs": [],
   "source": []
  }
 ],
 "metadata": {
  "anaconda-cloud": {},
  "kernelspec": {
   "display_name": "Python 3",
   "language": "python",
   "name": "python3"
  },
  "language_info": {
   "codemirror_mode": {
    "name": "ipython",
    "version": 3
   },
   "file_extension": ".py",
   "mimetype": "text/x-python",
   "name": "python",
   "nbconvert_exporter": "python",
   "pygments_lexer": "ipython3",
   "version": "3.8.3"
  }
 },
 "nbformat": 4,
 "nbformat_minor": 1
}
