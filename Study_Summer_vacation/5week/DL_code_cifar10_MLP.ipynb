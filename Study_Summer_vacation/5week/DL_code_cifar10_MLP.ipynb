{
  "nbformat": 4,
  "nbformat_minor": 0,
  "metadata": {
    "colab": {
      "name": "DL_code_cifar10_MLP.ipynb",
      "provenance": [],
      "collapsed_sections": []
    },
    "kernelspec": {
      "name": "python3",
      "display_name": "Python 3"
    },
    "language_info": {
      "name": "python"
    },
    "accelerator": "GPU",
    "widgets": {
      "application/vnd.jupyter.widget-state+json": {
        "c3760bc79c9e4dd3af63b92498859be8": {
          "model_module": "@jupyter-widgets/controls",
          "model_name": "HBoxModel",
          "state": {
            "_view_name": "HBoxView",
            "_dom_classes": [],
            "_model_name": "HBoxModel",
            "_view_module": "@jupyter-widgets/controls",
            "_model_module_version": "1.5.0",
            "_view_count": null,
            "_view_module_version": "1.5.0",
            "box_style": "",
            "layout": "IPY_MODEL_68a1534b540246d58875e4b1dc754719",
            "_model_module": "@jupyter-widgets/controls",
            "children": [
              "IPY_MODEL_b239ac199e2b44c69e368811220e9f28",
              "IPY_MODEL_4f9863cd6597485abd0d0a2a9b14e6c6"
            ]
          }
        },
        "68a1534b540246d58875e4b1dc754719": {
          "model_module": "@jupyter-widgets/base",
          "model_name": "LayoutModel",
          "state": {
            "_view_name": "LayoutView",
            "grid_template_rows": null,
            "right": null,
            "justify_content": null,
            "_view_module": "@jupyter-widgets/base",
            "overflow": null,
            "_model_module_version": "1.2.0",
            "_view_count": null,
            "flex_flow": null,
            "width": null,
            "min_width": null,
            "border": null,
            "align_items": null,
            "bottom": null,
            "_model_module": "@jupyter-widgets/base",
            "top": null,
            "grid_column": null,
            "overflow_y": null,
            "overflow_x": null,
            "grid_auto_flow": null,
            "grid_area": null,
            "grid_template_columns": null,
            "flex": null,
            "_model_name": "LayoutModel",
            "justify_items": null,
            "grid_row": null,
            "max_height": null,
            "align_content": null,
            "visibility": null,
            "align_self": null,
            "height": null,
            "min_height": null,
            "padding": null,
            "grid_auto_rows": null,
            "grid_gap": null,
            "max_width": null,
            "order": null,
            "_view_module_version": "1.2.0",
            "grid_template_areas": null,
            "object_position": null,
            "object_fit": null,
            "grid_auto_columns": null,
            "margin": null,
            "display": null,
            "left": null
          }
        },
        "b239ac199e2b44c69e368811220e9f28": {
          "model_module": "@jupyter-widgets/controls",
          "model_name": "FloatProgressModel",
          "state": {
            "_view_name": "ProgressView",
            "style": "IPY_MODEL_6e73a86c3c5d4511b227ea3c1c227f93",
            "_dom_classes": [],
            "description": "",
            "_model_name": "FloatProgressModel",
            "bar_style": "success",
            "max": 170498071,
            "_view_module": "@jupyter-widgets/controls",
            "_model_module_version": "1.5.0",
            "value": 170498071,
            "_view_count": null,
            "_view_module_version": "1.5.0",
            "orientation": "horizontal",
            "min": 0,
            "description_tooltip": null,
            "_model_module": "@jupyter-widgets/controls",
            "layout": "IPY_MODEL_76930963c3324bc69c67471722f6e30d"
          }
        },
        "4f9863cd6597485abd0d0a2a9b14e6c6": {
          "model_module": "@jupyter-widgets/controls",
          "model_name": "HTMLModel",
          "state": {
            "_view_name": "HTMLView",
            "style": "IPY_MODEL_ddf42767cd244500afa519a84e60e8c9",
            "_dom_classes": [],
            "description": "",
            "_model_name": "HTMLModel",
            "placeholder": "​",
            "_view_module": "@jupyter-widgets/controls",
            "_model_module_version": "1.5.0",
            "value": " 170499072/? [02:56&lt;00:00, 966329.50it/s]",
            "_view_count": null,
            "_view_module_version": "1.5.0",
            "description_tooltip": null,
            "_model_module": "@jupyter-widgets/controls",
            "layout": "IPY_MODEL_4a2267912d4e436d801295553c6d9414"
          }
        },
        "6e73a86c3c5d4511b227ea3c1c227f93": {
          "model_module": "@jupyter-widgets/controls",
          "model_name": "ProgressStyleModel",
          "state": {
            "_view_name": "StyleView",
            "_model_name": "ProgressStyleModel",
            "description_width": "initial",
            "_view_module": "@jupyter-widgets/base",
            "_model_module_version": "1.5.0",
            "_view_count": null,
            "_view_module_version": "1.2.0",
            "bar_color": null,
            "_model_module": "@jupyter-widgets/controls"
          }
        },
        "76930963c3324bc69c67471722f6e30d": {
          "model_module": "@jupyter-widgets/base",
          "model_name": "LayoutModel",
          "state": {
            "_view_name": "LayoutView",
            "grid_template_rows": null,
            "right": null,
            "justify_content": null,
            "_view_module": "@jupyter-widgets/base",
            "overflow": null,
            "_model_module_version": "1.2.0",
            "_view_count": null,
            "flex_flow": null,
            "width": null,
            "min_width": null,
            "border": null,
            "align_items": null,
            "bottom": null,
            "_model_module": "@jupyter-widgets/base",
            "top": null,
            "grid_column": null,
            "overflow_y": null,
            "overflow_x": null,
            "grid_auto_flow": null,
            "grid_area": null,
            "grid_template_columns": null,
            "flex": null,
            "_model_name": "LayoutModel",
            "justify_items": null,
            "grid_row": null,
            "max_height": null,
            "align_content": null,
            "visibility": null,
            "align_self": null,
            "height": null,
            "min_height": null,
            "padding": null,
            "grid_auto_rows": null,
            "grid_gap": null,
            "max_width": null,
            "order": null,
            "_view_module_version": "1.2.0",
            "grid_template_areas": null,
            "object_position": null,
            "object_fit": null,
            "grid_auto_columns": null,
            "margin": null,
            "display": null,
            "left": null
          }
        },
        "ddf42767cd244500afa519a84e60e8c9": {
          "model_module": "@jupyter-widgets/controls",
          "model_name": "DescriptionStyleModel",
          "state": {
            "_view_name": "StyleView",
            "_model_name": "DescriptionStyleModel",
            "description_width": "",
            "_view_module": "@jupyter-widgets/base",
            "_model_module_version": "1.5.0",
            "_view_count": null,
            "_view_module_version": "1.2.0",
            "_model_module": "@jupyter-widgets/controls"
          }
        },
        "4a2267912d4e436d801295553c6d9414": {
          "model_module": "@jupyter-widgets/base",
          "model_name": "LayoutModel",
          "state": {
            "_view_name": "LayoutView",
            "grid_template_rows": null,
            "right": null,
            "justify_content": null,
            "_view_module": "@jupyter-widgets/base",
            "overflow": null,
            "_model_module_version": "1.2.0",
            "_view_count": null,
            "flex_flow": null,
            "width": null,
            "min_width": null,
            "border": null,
            "align_items": null,
            "bottom": null,
            "_model_module": "@jupyter-widgets/base",
            "top": null,
            "grid_column": null,
            "overflow_y": null,
            "overflow_x": null,
            "grid_auto_flow": null,
            "grid_area": null,
            "grid_template_columns": null,
            "flex": null,
            "_model_name": "LayoutModel",
            "justify_items": null,
            "grid_row": null,
            "max_height": null,
            "align_content": null,
            "visibility": null,
            "align_self": null,
            "height": null,
            "min_height": null,
            "padding": null,
            "grid_auto_rows": null,
            "grid_gap": null,
            "max_width": null,
            "order": null,
            "_view_module_version": "1.2.0",
            "grid_template_areas": null,
            "object_position": null,
            "object_fit": null,
            "grid_auto_columns": null,
            "margin": null,
            "display": null,
            "left": null
          }
        }
      }
    }
  },
  "cells": [
    {
      "cell_type": "code",
      "metadata": {
        "id": "zyqE8dUmTJuT"
      },
      "source": [
        "import pandas as pd\n",
        "import numpy as np\n",
        "import warnings\n",
        "warnings.filterwarnings('ignore')\n",
        "import matplotlib.pyplot as plt\n",
        "import seaborn as sns\n",
        "import torch\n",
        "import torchvision\n",
        "import torchvision.transforms as T\n",
        "from tqdm import tqdm"
      ],
      "execution_count": 5,
      "outputs": []
    },
    {
      "cell_type": "code",
      "metadata": {
        "colab": {
          "base_uri": "https://localhost:8080/",
          "height": 121,
          "referenced_widgets": [
            "c3760bc79c9e4dd3af63b92498859be8",
            "68a1534b540246d58875e4b1dc754719",
            "b239ac199e2b44c69e368811220e9f28",
            "4f9863cd6597485abd0d0a2a9b14e6c6",
            "6e73a86c3c5d4511b227ea3c1c227f93",
            "76930963c3324bc69c67471722f6e30d",
            "ddf42767cd244500afa519a84e60e8c9",
            "4a2267912d4e436d801295553c6d9414"
          ]
        },
        "id": "8xkf_SX4UXNQ",
        "outputId": "6e18784b-4b11-4343-e7b8-e510fa385d59"
      },
      "source": [
        "transform = T.Compose(\n",
        "    [T.ToTensor(), # tensor \n",
        "     T.Normalize((0.5, 0.5, 0.5), (0.5, 0.5, 0.5))]) # -0.5~0.5 범위로 바꿔주고 , 다시 0.5로 나눠준다(채널별로)\n",
        "\n",
        "trainset = torchvision.datasets.CIFAR10(root='./data', train=True,\n",
        "                                        download=True, transform=transform)\n",
        "trainset, valset = torch.utils.data.random_split(trainset, [40000, 10000])\n",
        "testset = torchvision.datasets.CIFAR10(root='./data', train=False,\n",
        "                                       download=True, transform=transform)\n",
        "trainloader = torch.utils.data.DataLoader(trainset,batch_size = 4, shuffle=True, num_workers=2)\n",
        "testloader = torch.utils.data.DataLoader(testset,batch_size = 4, shuffle=False,num_workers=2)\n",
        "\n",
        "# trainset, valset = torch.utils.data.random_split(trainset, [40000, 10000])\n",
        "\n",
        "valloader = torch.utils.data.DataLoader(valset,batch_size = 4, shuffle=False,num_workers=2)\n",
        "\n",
        "classes = ('plane','car','bird','cat','deer','dog','frog','horse','ship','truck')"
      ],
      "execution_count": 2,
      "outputs": [
        {
          "output_type": "stream",
          "text": [
            "Downloading https://www.cs.toronto.edu/~kriz/cifar-10-python.tar.gz to ./data/cifar-10-python.tar.gz\n"
          ],
          "name": "stdout"
        },
        {
          "output_type": "display_data",
          "data": {
            "application/vnd.jupyter.widget-view+json": {
              "model_id": "c3760bc79c9e4dd3af63b92498859be8",
              "version_minor": 0,
              "version_major": 2
            },
            "text/plain": [
              "HBox(children=(FloatProgress(value=0.0, max=170498071.0), HTML(value='')))"
            ]
          },
          "metadata": {
            "tags": []
          }
        },
        {
          "output_type": "stream",
          "text": [
            "\n",
            "Extracting ./data/cifar-10-python.tar.gz to ./data\n",
            "Files already downloaded and verified\n"
          ],
          "name": "stdout"
        }
      ]
    },
    {
      "cell_type": "code",
      "metadata": {
        "colab": {
          "base_uri": "https://localhost:8080/",
          "height": 314
        },
        "id": "DDl6n02eUyXb",
        "outputId": "9cb64bc5-eba6-4618-8e83-ddd986a0cf16"
      },
      "source": [
        "def imshow(img):\n",
        "    img = img/2 + 0.5 # unnormalize\n",
        "    npimg = img.numpy()\n",
        "    plt.figure(figsize = (12,8))\n",
        "    plt.imshow(np.transpose(npimg,(1,2,0)))\n",
        "    plt.show()\n",
        "\n",
        "dataiter = iter(trainloader)\n",
        "images, labels = dataiter.next()\n",
        "\n",
        "imshow(torchvision.utils.make_grid(images))\n",
        "print(' '.join('%5s' % classes[labels[j]] for j in range(4)))\n",
        "\n",
        "print(f'Image type : {type(images)}\\nImage shape: {images.shape}') ## shape : [batch_size, num_channel(rgb),w,h]\n",
        "print(f'Image type : {type(labels)}\\nImage shape: {labels.shape}, {labels}')"
      ],
      "execution_count": 19,
      "outputs": [
        {
          "output_type": "display_data",
          "data": {
            "image/png": "[encoded data removed]",
            "text/plain": [
              "<Figure size 864x576 with 1 Axes>"
            ]
          },
          "metadata": {
            "tags": [],
            "needs_background": "light"
          }
        },
        {
          "output_type": "stream",
          "text": [
            "horse truck   cat   car\n",
            "Image type : <class 'torch.Tensor'>\n",
            "Image shape: torch.Size([4, 3, 32, 32])\n",
            "Image type : <class 'torch.Tensor'>\n",
            "Image shape: torch.Size([4]), tensor([7, 9, 3, 1])\n"
          ],
          "name": "stdout"
        }
      ]
    },
    {
      "cell_type": "code",
      "metadata": {
        "colab": {
          "base_uri": "https://localhost:8080/"
        },
        "id": "tli8JskAWfN5",
        "outputId": "2c85d8b9-a760-42d6-9cd6-23b75824a1c1"
      },
      "source": [
        "import torch.nn as nn\n",
        "import torch.nn.functional as F\n",
        "\n",
        "\n",
        "class MLP(nn.Module):\n",
        "    def __init__(self,in_dim,out_dim,hid_dim,n_layer,act):\n",
        "        super(MLP,self).__init__()\n",
        "        self.in_dim = in_dim\n",
        "        self.out_dim = out_dim\n",
        "        self.hid_dim = hid_dim\n",
        "        self.n_layer = n_layer\n",
        "        self.act = act\n",
        "        self.fc = nn.Linear(self.in_dim,self.hid_dim)\n",
        "        self.linears = nn.ModuleList()\n",
        "        for i in range(self.n_layer-1):\n",
        "            self.linears.append(nn.Linear(self.hid_dim,self.hid_dim))\n",
        "        self.fc2 = nn.Linear(self.hid_dim,self.out_dim)\n",
        "\n",
        "        if self.act == 'relu':\n",
        "            self.act = nn.ReLU()\n",
        "        else:\n",
        "            self.act = nn.Sigmoid()\n",
        "        \n",
        "    def forward(self, x):\n",
        "        x = self.act(self.fc(x))\n",
        "        for fc in self.linears:\n",
        "            x = self.act(fc(x))\n",
        "        x = self.fc2(x)\n",
        "        return x\n",
        "\n",
        "in_dim = 1024 * 3\n",
        "out_dim = 10\n",
        "hid_dim = 100\n",
        "n_layer = 4 # hidden layer 개수\n",
        "activation_func = 'relu'\n",
        "model = MLP(in_dim,out_dim,hid_dim,n_layer,activation_func)\n",
        "print(model)"
      ],
      "execution_count": 3,
      "outputs": [
        {
          "output_type": "stream",
          "text": [
            "MLP(\n",
            "  (fc): Linear(in_features=3072, out_features=100, bias=True)\n",
            "  (linears): ModuleList(\n",
            "    (0): Linear(in_features=100, out_features=100, bias=True)\n",
            "    (1): Linear(in_features=100, out_features=100, bias=True)\n",
            "    (2): Linear(in_features=100, out_features=100, bias=True)\n",
            "  )\n",
            "  (fc2): Linear(in_features=100, out_features=10, bias=True)\n",
            "  (act): ReLU()\n",
            ")\n"
          ],
          "name": "stdout"
        }
      ]
    },
    {
      "cell_type": "code",
      "metadata": {
        "colab": {
          "base_uri": "https://localhost:8080/"
        },
        "id": "ay9unaQ5fY_N",
        "outputId": "fd2e3913-fbe8-48ec-ed38-fdd858153237"
      },
      "source": [
        "import torch.optim as optim\n",
        "criterion = nn.CrossEntropyLoss()\n",
        "optimizer = optim.SGD(model.parameters(),lr = 0.001, momentum = 0.9)\n",
        "print(criterion)\n",
        "print(optimizer)"
      ],
      "execution_count": 4,
      "outputs": [
        {
          "output_type": "stream",
          "text": [
            "CrossEntropyLoss()\n",
            "SGD (\n",
            "Parameter Group 0\n",
            "    dampening: 0\n",
            "    lr: 0.001\n",
            "    momentum: 0.9\n",
            "    nesterov: False\n",
            "    weight_decay: 0\n",
            ")\n"
          ],
          "name": "stdout"
        }
      ]
    },
    {
      "cell_type": "markdown",
      "metadata": {
        "id": "MeifaEPmn7hJ"
      },
      "source": [
        "### Train Code"
      ]
    },
    {
      "cell_type": "code",
      "metadata": {
        "colab": {
          "base_uri": "https://localhost:8080/"
        },
        "id": "VSCovQF6ge45",
        "outputId": "363ab829-e0bd-47dc-c121-d25f9f10ede4"
      },
      "source": [
        "from tqdm import tqdm\n",
        "epochs = 2\n",
        "for epoch in tqdm(range(epochs)):  # loop over the dataset multiple times\n",
        "\n",
        "    running_loss = 0.0\n",
        "    for i, data in enumerate(trainloader, 0):\n",
        "        # get the inputs; data is a list of [inputs, labels]\n",
        "        inputs, labels = data\n",
        "        inputs = inputs.view(-1,3072)\n",
        "        # print(inputs.shape)\n",
        "        # zero the parameter gradients\n",
        "        optimizer.zero_grad()\n",
        "\n",
        "        # forward + backward + optimize\n",
        "        outputs = model(inputs)\n",
        "        loss = criterion(outputs, labels)\n",
        "        loss.backward()\n",
        "        optimizer.step()\n",
        "\n",
        "        # print statistics\n",
        "        running_loss += loss.item()\n",
        "        if i % 2000 == 1999:    # print every 2000 mini-batches\n",
        "            print('[%d, %5d] loss: %.3f' %\n",
        "                  (epoch + 1, i + 1, running_loss / 2000))\n",
        "            running_loss = 0.0\n",
        "\n",
        "print('Finished Training')"
      ],
      "execution_count": 29,
      "outputs": [
        {
          "output_type": "stream",
          "text": [
            "\r  0%|          | 0/2 [00:00<?, ?it/s]"
          ],
          "name": "stderr"
        },
        {
          "output_type": "stream",
          "text": [
            "[1,  2000] loss: 2.096\n",
            "[1,  4000] loss: 1.830\n",
            "[1,  6000] loss: 1.726\n",
            "[1,  8000] loss: 1.677\n",
            "[1, 10000] loss: 1.651\n",
            "[1, 12000] loss: 1.624\n"
          ],
          "name": "stdout"
        },
        {
          "output_type": "stream",
          "text": [
            "\r 50%|█████     | 1/2 [01:07<01:07, 67.39s/it]"
          ],
          "name": "stderr"
        },
        {
          "output_type": "stream",
          "text": [
            "[2,  2000] loss: 1.548\n",
            "[2,  4000] loss: 1.524\n",
            "[2,  6000] loss: 1.512\n",
            "[2,  8000] loss: 1.500\n",
            "[2, 10000] loss: 1.504\n",
            "[2, 12000] loss: 1.475\n"
          ],
          "name": "stdout"
        },
        {
          "output_type": "stream",
          "text": [
            "100%|██████████| 2/2 [02:13<00:00, 66.96s/it]"
          ],
          "name": "stderr"
        },
        {
          "output_type": "stream",
          "text": [
            "Finished Training\n"
          ],
          "name": "stdout"
        },
        {
          "output_type": "stream",
          "text": [
            "\n"
          ],
          "name": "stderr"
        }
      ]
    },
    {
      "cell_type": "markdown",
      "metadata": {
        "id": "-MMkYsGanzkC"
      },
      "source": [
        "## Val Loss & Accuracy"
      ]
    },
    {
      "cell_type": "code",
      "metadata": {
        "colab": {
          "base_uri": "https://localhost:8080/"
        },
        "id": "81-xK9NpkADN",
        "outputId": "2670b20d-d8b6-4926-dbfd-2e90b01b6b90"
      },
      "source": [
        "correct = 0\n",
        "total = 0\n",
        "loss_arr = []\n",
        "val_loss = 0\n",
        "with torch.no_grad():\n",
        "    for data in valloader:\n",
        "        images,labels = data\n",
        "        images = images.view(-1,3072)\n",
        "        outputs = model(images)\n",
        "        loss = criterion(outputs,labels)\n",
        "        val_loss += loss.item()\n",
        "        _,predicted = torch.max(outputs.data,1)\n",
        "        total += labels.size(0)\n",
        "        correct += (predicted == labels).sum().item()\n",
        "    val_loss = val_loss / len(valloader)\n",
        "print(val_loss)\n",
        "print('Accuracy : {}, val loss : {:.3f}'.format(100 * correct/total, val_loss))"
      ],
      "execution_count": 42,
      "outputs": [
        {
          "output_type": "stream",
          "text": [
            "1.4306718767166138\n",
            "Accuracy : 49.42, val loss : 1.431\n"
          ],
          "name": "stdout"
        }
      ]
    },
    {
      "cell_type": "markdown",
      "metadata": {
        "id": "899DZ9nwoFU6"
      },
      "source": [
        "### Experiment"
      ]
    },
    {
      "cell_type": "code",
      "metadata": {
        "id": "KzaaI0FtpUIY"
      },
      "source": [
        "def experiment(args):\n",
        "    model = MLP(args.in_dim,args.out_dim,args.hid_dim,args.n_layer,args.act)\n",
        "    model = model.cuda()\n",
        "    criterion = nn.CrossEntropyLoss()\n",
        "    optimizer = optim.SGD(model.parameters(),lr = args.lr,momentum = args.mm)\n",
        "\n",
        "    for epoch in tqdm(range(args.epoch)):  # loop over the dataset multiple times\n",
        "        # === Train === #\n",
        "        running_loss = 0.0\n",
        "        train_loss = 0.0\n",
        "        for i, data in enumerate(trainloader, 0):\n",
        "            # get the inputs; data is a list of [inputs, labels]\n",
        "            inputs, labels = data\n",
        "            inputs = inputs.view(-1,3072)\n",
        "\n",
        "            inputs = inputs.cuda()\n",
        "            labels = labels.cuda()\n",
        "\n",
        "            # print(inputs.shape)\n",
        "            # zero the parameter gradients\n",
        "            optimizer.zero_grad()\n",
        "\n",
        "            # forward + backward + optimize\n",
        "            outputs = model(inputs)\n",
        "            loss = criterion(outputs, labels)\n",
        "            loss.backward()\n",
        "            optimizer.step()\n",
        "\n",
        "            # print statistics\n",
        "            running_loss += loss.item()\n",
        "            train_loss += loss.item()\n",
        "            if i % 2000 == 1999:    # print every 2000 mini-batches\n",
        "                print('[%d, %5d] loss: %.3f' %\n",
        "                    (epoch + 1, i + 1, running_loss / 2000))\n",
        "                running_loss = 0.0\n",
        "        # === validation === #\n",
        "        correct = 0\n",
        "        total = 0\n",
        "        loss_arr = []\n",
        "        val_loss = 0\n",
        "        with torch.no_grad():\n",
        "            for data in valloader:\n",
        "                images,labels = data\n",
        "                images = images.view(-1,3072)\n",
        "                images = images.cuda()\n",
        "                labels = labels.cuda()\n",
        "\n",
        "                outputs = model(images)\n",
        "                loss = criterion(outputs,labels)\n",
        "                val_loss += loss.item()\n",
        "                _,predicted = torch.max(outputs.data,1)\n",
        "                total += labels.size(0)\n",
        "                correct += (predicted == labels).sum().item()\n",
        "            val_loss = val_loss / len(valloader)\n",
        "            val_acc = 100 * correct/total\n",
        "            print('Epoch : {}, Train loss : {:.3f}, Val Loss : {:.3f} Val Accuracy : {:.3f}'.format(epoch,train_loss,val_loss,val_acc))\n",
        "    correct = 0\n",
        "    total = 0\n",
        "    loss_arr = []\n",
        "    test_loss = 0\n",
        "    with torch.no_grad():\n",
        "        for data in testloader:\n",
        "            images,labels = data\n",
        "            images = images.view(-1,3072)\n",
        "            images = images.cuda()\n",
        "            labels = labels.cuda()\n",
        "            outputs = model(images)\n",
        "            loss = criterion(outputs,labels)\n",
        "            val_loss += loss.item()\n",
        "            _,predicted = torch.max(outputs.data,1)\n",
        "            total += labels.size(0)\n",
        "            correct += (predicted == labels).sum().item()\n",
        "        test_loss = test_loss / len(testloader)\n",
        "\n",
        "    print('Accuracy : {}, val loss : {:.3f}'.format(100 * correct/total, val_loss))\n",
        "    print('Finished Training')\n"
      ],
      "execution_count": 13,
      "outputs": []
    },
    {
      "cell_type": "code",
      "metadata": {
        "colab": {
          "base_uri": "https://localhost:8080/"
        },
        "id": "o4-zY1h-oGqF",
        "outputId": "5ae7d5ca-6a3e-44d2-f398-20fa037d8bfe"
      },
      "source": [
        "import argparse\n",
        "parser = argparse.ArgumentParser()\n",
        "args = parser.parse_args(\"\")\n",
        "\n",
        "seed = 123\n",
        "np.random.seed(seed)\n",
        "torch.manual_seed(seed)\n",
        "\n",
        "args.n_layer = 5\n",
        "args.in_dim = 3072\n",
        "args.out_dim = 10\n",
        "args.hid_dim = 100\n",
        "args.act = 'relu'\n",
        "args.lr = 0.001\n",
        "args.mm = 0.9\n",
        "args.epoch = 2\n",
        "experiment(args)"
      ],
      "execution_count": 14,
      "outputs": [
        {
          "output_type": "stream",
          "text": [
            "\r  0%|          | 0/2 [00:00<?, ?it/s]"
          ],
          "name": "stderr"
        },
        {
          "output_type": "stream",
          "text": [
            "[1,  2000] loss: 2.298\n",
            "[1,  4000] loss: 2.117\n",
            "[1,  6000] loss: 1.934\n",
            "[1,  8000] loss: 1.804\n",
            "[1, 10000] loss: 1.715\n"
          ],
          "name": "stdout"
        },
        {
          "output_type": "stream",
          "text": [
            "\r 50%|█████     | 1/2 [00:44<00:44, 44.52s/it]"
          ],
          "name": "stderr"
        },
        {
          "output_type": "stream",
          "text": [
            "Epoch : 0, Train loss : 19734.964, Val Loss : 1.683 Val Accuracy : 39.390\n",
            "[2,  2000] loss: 1.670\n",
            "[2,  4000] loss: 1.634\n",
            "[2,  6000] loss: 1.610\n",
            "[2,  8000] loss: 1.571\n",
            "[2, 10000] loss: 1.568\n"
          ],
          "name": "stdout"
        },
        {
          "output_type": "stream",
          "text": [
            "100%|██████████| 2/2 [01:30<00:00, 45.04s/it]"
          ],
          "name": "stderr"
        },
        {
          "output_type": "stream",
          "text": [
            "Epoch : 1, Train loss : 16106.622, Val Loss : 1.546 Val Accuracy : 44.460\n"
          ],
          "name": "stdout"
        },
        {
          "output_type": "stream",
          "text": [
            "\n"
          ],
          "name": "stderr"
        },
        {
          "output_type": "stream",
          "text": [
            "1.5388006622195243\n",
            "Accuracy : 45.02, val loss : 1.539\n",
            "Finished Training\n"
          ],
          "name": "stdout"
        }
      ]
    }
  ]
}